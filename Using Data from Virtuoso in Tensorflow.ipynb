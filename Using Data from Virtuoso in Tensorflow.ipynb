{
 "cells": [
  {
   "cell_type": "markdown",
   "id": "fa18eaa1",
   "metadata": {},
   "source": [
    "## Using Data From Virtuoso in Tensorflow (SQL Query)"
   ]
  },
  {
   "cell_type": "code",
   "execution_count": 1,
   "id": "ddfa3c97",
   "metadata": {},
   "outputs": [],
   "source": [
    "import pandas as pd\n",
    "import pyodbc\n",
    "import tensorflow as tf\n",
    "import datetime\n",
    "\n",
    "SHUFFLE_BUFFER = 500\n",
    "BATCH_SIZE = 2"
   ]
  },
  {
   "cell_type": "markdown",
   "id": "ef5f585a",
   "metadata": {},
   "source": [
    "### Set Connection, and Create Dataframe"
   ]
  },
  {
   "cell_type": "code",
   "execution_count": 13,
   "id": "44752ba8",
   "metadata": {},
   "outputs": [],
   "source": [
    "cnxn = pyodbc.connect(\"DSN=Local Virtuoso;UID=dba;pwd=dba\")\n",
    "\n",
    "q = 'SELECT * FROM \"tensorflow\".\"diabetes\".data'\n",
    "\n",
    "d = pd.read_sql_query(q,cnxn)\n"
   ]
  },
  {
   "cell_type": "code",
   "execution_count": 14,
   "id": "4df43b1e",
   "metadata": {},
   "outputs": [
    {
     "data": {
      "text/html": [
       "<div>\n",
       "<style scoped>\n",
       "    .dataframe tbody tr th:only-of-type {\n",
       "        vertical-align: middle;\n",
       "    }\n",
       "\n",
       "    .dataframe tbody tr th {\n",
       "        vertical-align: top;\n",
       "    }\n",
       "\n",
       "    .dataframe thead th {\n",
       "        text-align: right;\n",
       "    }\n",
       "</style>\n",
       "<table border=\"1\" class=\"dataframe\">\n",
       "  <thead>\n",
       "    <tr style=\"text-align: right;\">\n",
       "      <th></th>\n",
       "      <th>Pregnancies</th>\n",
       "      <th>Glucose</th>\n",
       "      <th>BloodPressure</th>\n",
       "      <th>SkinThickness</th>\n",
       "      <th>Insulin</th>\n",
       "      <th>BMI</th>\n",
       "      <th>DiabetesPedigreeFunction</th>\n",
       "      <th>Age</th>\n",
       "    </tr>\n",
       "  </thead>\n",
       "  <tbody>\n",
       "    <tr>\n",
       "      <th>0</th>\n",
       "      <td>6</td>\n",
       "      <td>148</td>\n",
       "      <td>72</td>\n",
       "      <td>35</td>\n",
       "      <td>0</td>\n",
       "      <td>33.6</td>\n",
       "      <td>0.627</td>\n",
       "      <td>50</td>\n",
       "    </tr>\n",
       "    <tr>\n",
       "      <th>1</th>\n",
       "      <td>1</td>\n",
       "      <td>85</td>\n",
       "      <td>66</td>\n",
       "      <td>29</td>\n",
       "      <td>0</td>\n",
       "      <td>26.6</td>\n",
       "      <td>0.351</td>\n",
       "      <td>31</td>\n",
       "    </tr>\n",
       "    <tr>\n",
       "      <th>2</th>\n",
       "      <td>8</td>\n",
       "      <td>183</td>\n",
       "      <td>64</td>\n",
       "      <td>0</td>\n",
       "      <td>0</td>\n",
       "      <td>23.3</td>\n",
       "      <td>0.672</td>\n",
       "      <td>32</td>\n",
       "    </tr>\n",
       "    <tr>\n",
       "      <th>3</th>\n",
       "      <td>1</td>\n",
       "      <td>89</td>\n",
       "      <td>66</td>\n",
       "      <td>23</td>\n",
       "      <td>94</td>\n",
       "      <td>28.1</td>\n",
       "      <td>0.167</td>\n",
       "      <td>21</td>\n",
       "    </tr>\n",
       "    <tr>\n",
       "      <th>4</th>\n",
       "      <td>0</td>\n",
       "      <td>137</td>\n",
       "      <td>40</td>\n",
       "      <td>35</td>\n",
       "      <td>168</td>\n",
       "      <td>43.1</td>\n",
       "      <td>2.288</td>\n",
       "      <td>33</td>\n",
       "    </tr>\n",
       "  </tbody>\n",
       "</table>\n",
       "</div>"
      ],
      "text/plain": [
       "   Pregnancies  Glucose  BloodPressure  SkinThickness  Insulin   BMI  \\\n",
       "0            6      148             72             35        0  33.6   \n",
       "1            1       85             66             29        0  26.6   \n",
       "2            8      183             64              0        0  23.3   \n",
       "3            1       89             66             23       94  28.1   \n",
       "4            0      137             40             35      168  43.1   \n",
       "\n",
       "   DiabetesPedigreeFunction  Age  \n",
       "0                     0.627   50  \n",
       "1                     0.351   31  \n",
       "2                     0.672   32  \n",
       "3                     0.167   21  \n",
       "4                     2.288   33  "
      ]
     },
     "execution_count": 14,
     "metadata": {},
     "output_type": "execute_result"
    }
   ],
   "source": [
    "df = pd.DataFrame(d)\n",
    "\n",
    "outcome = df.pop(\"Outcome\")\n",
    "\n",
    "df.head()\n",
    "\n"
   ]
  },
  {
   "cell_type": "code",
   "execution_count": 15,
   "id": "efbf2bc7",
   "metadata": {},
   "outputs": [],
   "source": [
    "feat_names = df.columns.tolist()\n",
    "feats = df[feat_names]\n"
   ]
  },
  {
   "cell_type": "markdown",
   "id": "518237a5",
   "metadata": {},
   "source": [
    "### Convert to Tensor and continue in TensorFlow"
   ]
  },
  {
   "cell_type": "code",
   "execution_count": 16,
   "id": "683fe921",
   "metadata": {
    "collapsed": true
   },
   "outputs": [
    {
     "name": "stderr",
     "output_type": "stream",
     "text": [
      "2021-11-30 11:12:35.345980: I tensorflow/core/platform/cpu_feature_guard.cc:142] This TensorFlow binary is optimized with oneAPI Deep Neural Network Library (oneDNN) to use the following CPU instructions in performance-critical operations:  AVX2 FMA\n",
      "To enable them in other operations, rebuild TensorFlow with the appropriate compiler flags.\n"
     ]
    },
    {
     "name": "stdout",
     "output_type": "stream",
     "text": [
      "tf.Tensor(\n",
      "[[  6.    148.     72.    ...  33.6     0.627  50.   ]\n",
      " [  1.     85.     66.    ...  26.6     0.351  31.   ]\n",
      " [  8.    183.     64.    ...  23.3     0.672  32.   ]\n",
      " ...\n",
      " [  2.    122.     70.    ...  36.8     0.34   27.   ]\n",
      " [  5.    121.     72.    ...  26.2     0.245  30.   ]\n",
      " [  1.    126.     60.    ...  30.1     0.349  47.   ]], shape=(767, 8), dtype=float64)\n"
     ]
    },
    {
     "name": "stderr",
     "output_type": "stream",
     "text": [
      "2021-11-30 11:12:35.708140: I tensorflow/compiler/mlir/mlir_graph_optimization_pass.cc:185] None of the MLIR Optimization Passes are enabled (registered 2)\n"
     ]
    },
    {
     "data": {
      "text/plain": [
       "<tf.Tensor: shape=(3, 8), dtype=float32, numpy=\n",
       "array([[ 0.6387271 ,  0.84705454,  0.14960383,  0.90778947, -0.6935593 ,\n",
       "         0.20362139,  0.4676379 ,  1.4246367 ],\n",
       "       [-0.8458293 , -1.1243613 , -0.16038112,  0.5315605 , -0.6935593 ,\n",
       "        -0.6842581 , -0.36549374, -0.1917781 ],\n",
       "       [ 1.2325497 ,  1.9422855 , -0.26370946, -1.2868794 , -0.6935593 ,\n",
       "        -1.1028302 ,  0.6034746 , -0.10670363]], dtype=float32)>"
      ]
     },
     "execution_count": 16,
     "metadata": {},
     "output_type": "execute_result"
    }
   ],
   "source": [
    "print(tf.convert_to_tensor(feats))\n",
    "\n",
    "normalizer = tf.keras.layers.Normalization(axis=-1)\n",
    "normalizer.adapt(feats)\n",
    "normalizer(feats.iloc[:3])"
   ]
  },
  {
   "cell_type": "code",
   "execution_count": 44,
   "id": "94df66b8",
   "metadata": {},
   "outputs": [
    {
     "name": "stderr",
     "output_type": "stream",
     "text": [
      "2021-11-30 12:04:44.181802: I tensorflow/core/profiler/lib/profiler_session.cc:131] Profiler session initializing.\n",
      "2021-11-30 12:04:44.181816: I tensorflow/core/profiler/lib/profiler_session.cc:146] Profiler session started.\n",
      "2021-11-30 12:04:44.181887: I tensorflow/core/profiler/lib/profiler_session.cc:164] Profiler session tear down.\n"
     ]
    },
    {
     "name": "stdout",
     "output_type": "stream",
     "text": [
      "Epoch 1/50\n",
      "253/384 [==================>...........] - ETA: 0s - loss: 0.5963 - accuracy: 0.6739"
     ]
    },
    {
     "name": "stderr",
     "output_type": "stream",
     "text": [
      "2021-11-30 12:04:44.534617: I tensorflow/core/profiler/lib/profiler_session.cc:131] Profiler session initializing.\n",
      "2021-11-30 12:04:44.534629: I tensorflow/core/profiler/lib/profiler_session.cc:146] Profiler session started.\n",
      "2021-11-30 12:04:44.553482: I tensorflow/core/profiler/lib/profiler_session.cc:66] Profiler session collecting data.\n",
      "2021-11-30 12:04:44.554256: I tensorflow/core/profiler/lib/profiler_session.cc:164] Profiler session tear down.\n",
      "2021-11-30 12:04:44.555131: I tensorflow/core/profiler/rpc/client/save_profile.cc:136] Creating directory: logs/fit/20211130-120444/train/plugins/profile/2021_11_30_12_04_44\n",
      "\n",
      "2021-11-30 12:04:44.555665: I tensorflow/core/profiler/rpc/client/save_profile.cc:142] Dumped gzipped tool data for trace.json.gz to logs/fit/20211130-120444/train/plugins/profile/2021_11_30_12_04_44/Daniels-MBP-2.fios-router.home.trace.json.gz\n",
      "2021-11-30 12:04:44.557046: I tensorflow/core/profiler/rpc/client/save_profile.cc:136] Creating directory: logs/fit/20211130-120444/train/plugins/profile/2021_11_30_12_04_44\n",
      "\n",
      "2021-11-30 12:04:44.557336: I tensorflow/core/profiler/rpc/client/save_profile.cc:142] Dumped gzipped tool data for memory_profile.json.gz to logs/fit/20211130-120444/train/plugins/profile/2021_11_30_12_04_44/Daniels-MBP-2.fios-router.home.memory_profile.json.gz\n",
      "2021-11-30 12:04:44.558184: I tensorflow/core/profiler/rpc/client/capture_profile.cc:251] Creating directory: logs/fit/20211130-120444/train/plugins/profile/2021_11_30_12_04_44\n",
      "Dumped tool data for xplane.pb to logs/fit/20211130-120444/train/plugins/profile/2021_11_30_12_04_44/Daniels-MBP-2.fios-router.home.xplane.pb\n",
      "Dumped tool data for overview_page.pb to logs/fit/20211130-120444/train/plugins/profile/2021_11_30_12_04_44/Daniels-MBP-2.fios-router.home.overview_page.pb\n",
      "Dumped tool data for input_pipeline.pb to logs/fit/20211130-120444/train/plugins/profile/2021_11_30_12_04_44/Daniels-MBP-2.fios-router.home.input_pipeline.pb\n",
      "Dumped tool data for tensorflow_stats.pb to logs/fit/20211130-120444/train/plugins/profile/2021_11_30_12_04_44/Daniels-MBP-2.fios-router.home.tensorflow_stats.pb\n",
      "Dumped tool data for kernel_stats.pb to logs/fit/20211130-120444/train/plugins/profile/2021_11_30_12_04_44/Daniels-MBP-2.fios-router.home.kernel_stats.pb\n",
      "\n"
     ]
    },
    {
     "name": "stdout",
     "output_type": "stream",
     "text": [
      "384/384 [==============================] - 1s 758us/step - loss: 0.5728 - accuracy: 0.7001\n",
      "Epoch 2/50\n",
      "384/384 [==============================] - 0s 661us/step - loss: 0.4932 - accuracy: 0.7497\n",
      "Epoch 3/50\n",
      "384/384 [==============================] - 0s 679us/step - loss: 0.4711 - accuracy: 0.7627\n",
      "Epoch 4/50\n",
      "384/384 [==============================] - 0s 673us/step - loss: 0.4576 - accuracy: 0.7771\n",
      "Epoch 5/50\n",
      "384/384 [==============================] - 0s 669us/step - loss: 0.4509 - accuracy: 0.7784\n",
      "Epoch 6/50\n",
      "384/384 [==============================] - 0s 667us/step - loss: 0.4426 - accuracy: 0.7836\n",
      "Epoch 7/50\n",
      "384/384 [==============================] - 0s 678us/step - loss: 0.4376 - accuracy: 0.7797\n",
      "Epoch 8/50\n",
      "384/384 [==============================] - 0s 664us/step - loss: 0.4322 - accuracy: 0.7940\n",
      "Epoch 9/50\n",
      "384/384 [==============================] - 0s 674us/step - loss: 0.4286 - accuracy: 0.7927\n",
      "Epoch 10/50\n",
      "384/384 [==============================] - 0s 668us/step - loss: 0.4231 - accuracy: 0.7927\n",
      "Epoch 11/50\n",
      "384/384 [==============================] - 0s 665us/step - loss: 0.4220 - accuracy: 0.7849\n",
      "Epoch 12/50\n",
      "384/384 [==============================] - 0s 682us/step - loss: 0.4153 - accuracy: 0.7914\n",
      "Epoch 13/50\n",
      "384/384 [==============================] - 0s 658us/step - loss: 0.4110 - accuracy: 0.7966\n",
      "Epoch 14/50\n",
      "384/384 [==============================] - 0s 670us/step - loss: 0.4089 - accuracy: 0.7992\n",
      "Epoch 15/50\n",
      "384/384 [==============================] - 0s 671us/step - loss: 0.4047 - accuracy: 0.7953\n",
      "Epoch 16/50\n",
      "384/384 [==============================] - 0s 670us/step - loss: 0.3993 - accuracy: 0.8005\n",
      "Epoch 17/50\n",
      "384/384 [==============================] - 0s 673us/step - loss: 0.3952 - accuracy: 0.8031\n",
      "Epoch 18/50\n",
      "384/384 [==============================] - 0s 665us/step - loss: 0.3875 - accuracy: 0.7979\n",
      "Epoch 19/50\n",
      "384/384 [==============================] - 0s 676us/step - loss: 0.3919 - accuracy: 0.8044\n",
      "Epoch 20/50\n",
      "384/384 [==============================] - 0s 662us/step - loss: 0.3857 - accuracy: 0.8031\n",
      "Epoch 21/50\n",
      "384/384 [==============================] - 0s 674us/step - loss: 0.3823 - accuracy: 0.8031\n",
      "Epoch 22/50\n",
      "384/384 [==============================] - 0s 660us/step - loss: 0.3794 - accuracy: 0.8018\n",
      "Epoch 23/50\n",
      "384/384 [==============================] - 0s 672us/step - loss: 0.3740 - accuracy: 0.8123\n",
      "Epoch 24/50\n",
      "384/384 [==============================] - 0s 669us/step - loss: 0.3695 - accuracy: 0.8110\n",
      "Epoch 25/50\n",
      "384/384 [==============================] - 0s 667us/step - loss: 0.3684 - accuracy: 0.8162\n",
      "Epoch 26/50\n",
      "384/384 [==============================] - 0s 668us/step - loss: 0.3652 - accuracy: 0.8083\n",
      "Epoch 27/50\n",
      "384/384 [==============================] - 0s 680us/step - loss: 0.3604 - accuracy: 0.8175\n",
      "Epoch 28/50\n",
      "384/384 [==============================] - 0s 674us/step - loss: 0.3522 - accuracy: 0.8214\n",
      "Epoch 29/50\n",
      "384/384 [==============================] - 0s 674us/step - loss: 0.3535 - accuracy: 0.8331\n",
      "Epoch 30/50\n",
      "384/384 [==============================] - 0s 663us/step - loss: 0.3481 - accuracy: 0.8253\n",
      "Epoch 31/50\n",
      "384/384 [==============================] - 0s 670us/step - loss: 0.3440 - accuracy: 0.8344\n",
      "Epoch 32/50\n",
      "384/384 [==============================] - 0s 664us/step - loss: 0.3412 - accuracy: 0.8331\n",
      "Epoch 33/50\n",
      "384/384 [==============================] - 0s 662us/step - loss: 0.3366 - accuracy: 0.8344\n",
      "Epoch 34/50\n",
      "384/384 [==============================] - 0s 668us/step - loss: 0.3356 - accuracy: 0.8422\n",
      "Epoch 35/50\n",
      "384/384 [==============================] - 0s 679us/step - loss: 0.3294 - accuracy: 0.8422\n",
      "Epoch 36/50\n",
      "384/384 [==============================] - 0s 667us/step - loss: 0.3250 - accuracy: 0.8449\n",
      "Epoch 37/50\n",
      "384/384 [==============================] - 0s 657us/step - loss: 0.3294 - accuracy: 0.8449\n",
      "Epoch 38/50\n",
      "384/384 [==============================] - 0s 661us/step - loss: 0.3201 - accuracy: 0.8553\n",
      "Epoch 39/50\n",
      "384/384 [==============================] - 0s 677us/step - loss: 0.3129 - accuracy: 0.8449\n",
      "Epoch 40/50\n",
      "384/384 [==============================] - 0s 654us/step - loss: 0.3129 - accuracy: 0.8579\n",
      "Epoch 41/50\n",
      "384/384 [==============================] - 0s 673us/step - loss: 0.3109 - accuracy: 0.8488\n",
      "Epoch 42/50\n",
      "384/384 [==============================] - 0s 658us/step - loss: 0.3061 - accuracy: 0.8670\n",
      "Epoch 43/50\n",
      "384/384 [==============================] - 0s 670us/step - loss: 0.3033 - accuracy: 0.8631\n",
      "Epoch 44/50\n",
      "384/384 [==============================] - 0s 674us/step - loss: 0.2996 - accuracy: 0.8657\n",
      "Epoch 45/50\n",
      "384/384 [==============================] - 0s 669us/step - loss: 0.2979 - accuracy: 0.8644\n",
      "Epoch 46/50\n",
      "384/384 [==============================] - 0s 661us/step - loss: 0.2942 - accuracy: 0.8722\n",
      "Epoch 47/50\n",
      "384/384 [==============================] - 0s 674us/step - loss: 0.2942 - accuracy: 0.8670\n",
      "Epoch 48/50\n",
      "384/384 [==============================] - 0s 671us/step - loss: 0.2872 - accuracy: 0.8735\n",
      "Epoch 49/50\n",
      "384/384 [==============================] - 0s 664us/step - loss: 0.2872 - accuracy: 0.8696\n",
      "Epoch 50/50\n",
      "384/384 [==============================] - 0s 672us/step - loss: 0.2822 - accuracy: 0.8761\n"
     ]
    },
    {
     "data": {
      "text/plain": [
       "<keras.callbacks.History at 0x1644aa790>"
      ]
     },
     "execution_count": 44,
     "metadata": {},
     "output_type": "execute_result"
    }
   ],
   "source": [
    "def get_basic_model():\n",
    "  model = tf.keras.Sequential([\n",
    "    normalizer,\n",
    "    tf.keras.layers.Dense(30, activation='relu'),\n",
    "    tf.keras.layers.Dense(30, activation='relu'),\n",
    "    tf.keras.layers.Dense(1)\n",
    "  ])\n",
    "\n",
    "  model.compile(optimizer='adam',\n",
    "                loss=tf.keras.losses.BinaryCrossentropy(from_logits=True),\n",
    "                metrics=['accuracy'])\n",
    "  return model\n",
    "\n",
    "model = get_basic_model()\n",
    "\n",
    "log_dir = \"logs/fit/\" + datetime.datetime.now().strftime(\"%Y%m%d-%H%M%S\")\n",
    "tensorboard_callback = tf.keras.callbacks.TensorBoard(log_dir=log_dir, histogram_freq=1)\n",
    "\n",
    "model.fit(feats, outcome, epochs=50, batch_size=BATCH_SIZE, callbacks=[tensorboard_callback])"
   ]
  },
  {
   "cell_type": "code",
   "execution_count": 45,
   "id": "eeab8a3d",
   "metadata": {},
   "outputs": [
    {
     "name": "stderr",
     "output_type": "stream",
     "text": [
      "2021-11-30 12:11:46.101320: W tensorflow/python/util/util.cc:348] Sets are not currently considered sequences, but this may change in the future, so consider avoiding using them.\n"
     ]
    },
    {
     "name": "stdout",
     "output_type": "stream",
     "text": [
      "INFO:tensorflow:Assets written to: saved_model/my_model/assets\n"
     ]
    }
   ],
   "source": [
    "!mkdir -p saved_model\n",
    "model.save('saved_model/my_model')"
   ]
  }
 ],
 "metadata": {
  "kernelspec": {
   "display_name": "Python 3 (ipykernel)",
   "language": "python",
   "name": "python3"
  },
  "language_info": {
   "codemirror_mode": {
    "name": "ipython",
    "version": 3
   },
   "file_extension": ".py",
   "mimetype": "text/x-python",
   "name": "python",
   "nbconvert_exporter": "python",
   "pygments_lexer": "ipython3",
   "version": "3.9.9"
  }
 },
 "nbformat": 4,
 "nbformat_minor": 5
}
