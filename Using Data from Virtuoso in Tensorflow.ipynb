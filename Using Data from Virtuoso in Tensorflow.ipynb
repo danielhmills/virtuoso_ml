{
 "cells": [
  {
   "cell_type": "markdown",
   "id": "fa18eaa1",
   "metadata": {},
   "source": [
    "## Using Data From Virtuoso in Tensorflow (SQL Query)"
   ]
  },
  {
   "cell_type": "code",
   "execution_count": 52,
   "id": "ddfa3c97",
   "metadata": {},
   "outputs": [],
   "source": [
    "import pandas as pd\n",
    "import pyodbc\n",
    "import tensorflow as tf\n",
    "import datetime\n",
    "import numpy as np\n",
    "\n",
    "SHUFFLE_BUFFER = 500\n",
    "BATCH_SIZE = 2"
   ]
  },
  {
   "cell_type": "markdown",
   "id": "ef5f585a",
   "metadata": {},
   "source": [
    "### Set Connection, and Create Dataframe"
   ]
  },
  {
   "cell_type": "code",
   "execution_count": 72,
   "id": "44752ba8",
   "metadata": {},
   "outputs": [
    {
     "data": {
      "text/html": [
       "<div>\n",
       "<style scoped>\n",
       "    .dataframe tbody tr th:only-of-type {\n",
       "        vertical-align: middle;\n",
       "    }\n",
       "\n",
       "    .dataframe tbody tr th {\n",
       "        vertical-align: top;\n",
       "    }\n",
       "\n",
       "    .dataframe thead th {\n",
       "        text-align: right;\n",
       "    }\n",
       "</style>\n",
       "<table border=\"1\" class=\"dataframe\">\n",
       "  <thead>\n",
       "    <tr style=\"text-align: right;\">\n",
       "      <th></th>\n",
       "      <th>Pregnancies</th>\n",
       "      <th>Glucose</th>\n",
       "      <th>BloodPressure</th>\n",
       "      <th>SkinThickness</th>\n",
       "      <th>Insulin</th>\n",
       "      <th>BMI</th>\n",
       "      <th>DiabetesPedigreeFunction</th>\n",
       "      <th>Age</th>\n",
       "      <th>Outcome</th>\n",
       "    </tr>\n",
       "  </thead>\n",
       "  <tbody>\n",
       "    <tr>\n",
       "      <th>0</th>\n",
       "      <td>6</td>\n",
       "      <td>148</td>\n",
       "      <td>72</td>\n",
       "      <td>35</td>\n",
       "      <td>0</td>\n",
       "      <td>33.6</td>\n",
       "      <td>0.627</td>\n",
       "      <td>50</td>\n",
       "      <td>1</td>\n",
       "    </tr>\n",
       "    <tr>\n",
       "      <th>1</th>\n",
       "      <td>1</td>\n",
       "      <td>85</td>\n",
       "      <td>66</td>\n",
       "      <td>29</td>\n",
       "      <td>0</td>\n",
       "      <td>26.6</td>\n",
       "      <td>0.351</td>\n",
       "      <td>31</td>\n",
       "      <td>0</td>\n",
       "    </tr>\n",
       "    <tr>\n",
       "      <th>2</th>\n",
       "      <td>8</td>\n",
       "      <td>183</td>\n",
       "      <td>64</td>\n",
       "      <td>0</td>\n",
       "      <td>0</td>\n",
       "      <td>23.3</td>\n",
       "      <td>0.672</td>\n",
       "      <td>32</td>\n",
       "      <td>1</td>\n",
       "    </tr>\n",
       "    <tr>\n",
       "      <th>3</th>\n",
       "      <td>1</td>\n",
       "      <td>89</td>\n",
       "      <td>66</td>\n",
       "      <td>23</td>\n",
       "      <td>94</td>\n",
       "      <td>28.1</td>\n",
       "      <td>0.167</td>\n",
       "      <td>21</td>\n",
       "      <td>0</td>\n",
       "    </tr>\n",
       "    <tr>\n",
       "      <th>4</th>\n",
       "      <td>0</td>\n",
       "      <td>137</td>\n",
       "      <td>40</td>\n",
       "      <td>35</td>\n",
       "      <td>168</td>\n",
       "      <td>43.1</td>\n",
       "      <td>2.288</td>\n",
       "      <td>33</td>\n",
       "      <td>1</td>\n",
       "    </tr>\n",
       "  </tbody>\n",
       "</table>\n",
       "</div>"
      ],
      "text/plain": [
       "   Pregnancies  Glucose  BloodPressure  SkinThickness  Insulin   BMI  \\\n",
       "0            6      148             72             35        0  33.6   \n",
       "1            1       85             66             29        0  26.6   \n",
       "2            8      183             64              0        0  23.3   \n",
       "3            1       89             66             23       94  28.1   \n",
       "4            0      137             40             35      168  43.1   \n",
       "\n",
       "   DiabetesPedigreeFunction  Age  Outcome  \n",
       "0                     0.627   50        1  \n",
       "1                     0.351   31        0  \n",
       "2                     0.672   32        1  \n",
       "3                     0.167   21        0  \n",
       "4                     2.288   33        1  "
      ]
     },
     "execution_count": 72,
     "metadata": {},
     "output_type": "execute_result"
    }
   ],
   "source": [
    "cnxn = pyodbc.connect(\"DSN=Local Virtuoso;UID=dba;pwd=dba\")\n",
    "\n",
    "q = 'SELECT * FROM \"tensorflow\".\"diabetes\".data'\n",
    "\n",
    "d = pd.read_sql_query(q,cnxn)\n",
    "\n",
    "d.head()\n"
   ]
  },
  {
   "cell_type": "code",
   "execution_count": 14,
   "id": "4df43b1e",
   "metadata": {},
   "outputs": [
    {
     "data": {
      "text/html": [
       "<div>\n",
       "<style scoped>\n",
       "    .dataframe tbody tr th:only-of-type {\n",
       "        vertical-align: middle;\n",
       "    }\n",
       "\n",
       "    .dataframe tbody tr th {\n",
       "        vertical-align: top;\n",
       "    }\n",
       "\n",
       "    .dataframe thead th {\n",
       "        text-align: right;\n",
       "    }\n",
       "</style>\n",
       "<table border=\"1\" class=\"dataframe\">\n",
       "  <thead>\n",
       "    <tr style=\"text-align: right;\">\n",
       "      <th></th>\n",
       "      <th>Pregnancies</th>\n",
       "      <th>Glucose</th>\n",
       "      <th>BloodPressure</th>\n",
       "      <th>SkinThickness</th>\n",
       "      <th>Insulin</th>\n",
       "      <th>BMI</th>\n",
       "      <th>DiabetesPedigreeFunction</th>\n",
       "      <th>Age</th>\n",
       "    </tr>\n",
       "  </thead>\n",
       "  <tbody>\n",
       "    <tr>\n",
       "      <th>0</th>\n",
       "      <td>6</td>\n",
       "      <td>148</td>\n",
       "      <td>72</td>\n",
       "      <td>35</td>\n",
       "      <td>0</td>\n",
       "      <td>33.6</td>\n",
       "      <td>0.627</td>\n",
       "      <td>50</td>\n",
       "    </tr>\n",
       "    <tr>\n",
       "      <th>1</th>\n",
       "      <td>1</td>\n",
       "      <td>85</td>\n",
       "      <td>66</td>\n",
       "      <td>29</td>\n",
       "      <td>0</td>\n",
       "      <td>26.6</td>\n",
       "      <td>0.351</td>\n",
       "      <td>31</td>\n",
       "    </tr>\n",
       "    <tr>\n",
       "      <th>2</th>\n",
       "      <td>8</td>\n",
       "      <td>183</td>\n",
       "      <td>64</td>\n",
       "      <td>0</td>\n",
       "      <td>0</td>\n",
       "      <td>23.3</td>\n",
       "      <td>0.672</td>\n",
       "      <td>32</td>\n",
       "    </tr>\n",
       "    <tr>\n",
       "      <th>3</th>\n",
       "      <td>1</td>\n",
       "      <td>89</td>\n",
       "      <td>66</td>\n",
       "      <td>23</td>\n",
       "      <td>94</td>\n",
       "      <td>28.1</td>\n",
       "      <td>0.167</td>\n",
       "      <td>21</td>\n",
       "    </tr>\n",
       "    <tr>\n",
       "      <th>4</th>\n",
       "      <td>0</td>\n",
       "      <td>137</td>\n",
       "      <td>40</td>\n",
       "      <td>35</td>\n",
       "      <td>168</td>\n",
       "      <td>43.1</td>\n",
       "      <td>2.288</td>\n",
       "      <td>33</td>\n",
       "    </tr>\n",
       "  </tbody>\n",
       "</table>\n",
       "</div>"
      ],
      "text/plain": [
       "   Pregnancies  Glucose  BloodPressure  SkinThickness  Insulin   BMI  \\\n",
       "0            6      148             72             35        0  33.6   \n",
       "1            1       85             66             29        0  26.6   \n",
       "2            8      183             64              0        0  23.3   \n",
       "3            1       89             66             23       94  28.1   \n",
       "4            0      137             40             35      168  43.1   \n",
       "\n",
       "   DiabetesPedigreeFunction  Age  \n",
       "0                     0.627   50  \n",
       "1                     0.351   31  \n",
       "2                     0.672   32  \n",
       "3                     0.167   21  \n",
       "4                     2.288   33  "
      ]
     },
     "execution_count": 14,
     "metadata": {},
     "output_type": "execute_result"
    }
   ],
   "source": [
    "df = pd.DataFrame(d)\n",
    "\n",
    "outcome = df.pop(\"Outcome\")\n",
    "\n",
    "df.head()\n",
    "\n"
   ]
  },
  {
   "cell_type": "code",
   "execution_count": 15,
   "id": "efbf2bc7",
   "metadata": {},
   "outputs": [],
   "source": [
    "feat_names = df.columns.tolist()\n",
    "feats = df[feat_names]\n"
   ]
  },
  {
   "cell_type": "markdown",
   "id": "518237a5",
   "metadata": {},
   "source": [
    "### Convert to Tensor and continue in TensorFlow"
   ]
  },
  {
   "cell_type": "code",
   "execution_count": 16,
   "id": "683fe921",
   "metadata": {
    "collapsed": true
   },
   "outputs": [
    {
     "name": "stderr",
     "output_type": "stream",
     "text": [
      "2021-11-30 11:12:35.345980: I tensorflow/core/platform/cpu_feature_guard.cc:142] This TensorFlow binary is optimized with oneAPI Deep Neural Network Library (oneDNN) to use the following CPU instructions in performance-critical operations:  AVX2 FMA\n",
      "To enable them in other operations, rebuild TensorFlow with the appropriate compiler flags.\n"
     ]
    },
    {
     "name": "stdout",
     "output_type": "stream",
     "text": [
      "tf.Tensor(\n",
      "[[  6.    148.     72.    ...  33.6     0.627  50.   ]\n",
      " [  1.     85.     66.    ...  26.6     0.351  31.   ]\n",
      " [  8.    183.     64.    ...  23.3     0.672  32.   ]\n",
      " ...\n",
      " [  2.    122.     70.    ...  36.8     0.34   27.   ]\n",
      " [  5.    121.     72.    ...  26.2     0.245  30.   ]\n",
      " [  1.    126.     60.    ...  30.1     0.349  47.   ]], shape=(767, 8), dtype=float64)\n"
     ]
    },
    {
     "name": "stderr",
     "output_type": "stream",
     "text": [
      "2021-11-30 11:12:35.708140: I tensorflow/compiler/mlir/mlir_graph_optimization_pass.cc:185] None of the MLIR Optimization Passes are enabled (registered 2)\n"
     ]
    },
    {
     "data": {
      "text/plain": [
       "<tf.Tensor: shape=(3, 8), dtype=float32, numpy=\n",
       "array([[ 0.6387271 ,  0.84705454,  0.14960383,  0.90778947, -0.6935593 ,\n",
       "         0.20362139,  0.4676379 ,  1.4246367 ],\n",
       "       [-0.8458293 , -1.1243613 , -0.16038112,  0.5315605 , -0.6935593 ,\n",
       "        -0.6842581 , -0.36549374, -0.1917781 ],\n",
       "       [ 1.2325497 ,  1.9422855 , -0.26370946, -1.2868794 , -0.6935593 ,\n",
       "        -1.1028302 ,  0.6034746 , -0.10670363]], dtype=float32)>"
      ]
     },
     "execution_count": 16,
     "metadata": {},
     "output_type": "execute_result"
    }
   ],
   "source": [
    "print(tf.convert_to_tensor(feats))\n",
    "\n",
    "normalizer = tf.keras.layers.Normalization(axis=-1)\n",
    "normalizer.adapt(feats)\n",
    "normalizer(feats.iloc[:3])"
   ]
  },
  {
   "cell_type": "code",
   "execution_count": 363,
   "id": "94df66b8",
   "metadata": {},
   "outputs": [
    {
     "name": "stderr",
     "output_type": "stream",
     "text": [
      "2021-11-30 16:06:48.808011: I tensorflow/core/profiler/lib/profiler_session.cc:131] Profiler session initializing.\n",
      "2021-11-30 16:06:48.808026: I tensorflow/core/profiler/lib/profiler_session.cc:146] Profiler session started.\n",
      "2021-11-30 16:06:48.808101: I tensorflow/core/profiler/lib/profiler_session.cc:164] Profiler session tear down.\n"
     ]
    },
    {
     "name": "stdout",
     "output_type": "stream",
     "text": [
      "Epoch 1/50\n",
      "384/384 [==============================] - 0s 638us/step - loss: 0.7308 - accuracy: 0.7223\n",
      "Epoch 2/50\n",
      "384/384 [==============================] - 0s 639us/step - loss: 0.4830 - accuracy: 0.7718\n",
      "Epoch 3/50\n",
      "384/384 [==============================] - 0s 641us/step - loss: 0.4658 - accuracy: 0.7718\n",
      "Epoch 4/50\n",
      "384/384 [==============================] - 0s 647us/step - loss: 0.4555 - accuracy: 0.7823\n",
      "Epoch 5/50\n",
      "384/384 [==============================] - 0s 640us/step - loss: 0.4516 - accuracy: 0.7888\n",
      "Epoch 6/50\n",
      "384/384 [==============================] - 0s 635us/step - loss: 0.4425 - accuracy: 0.7914\n",
      "Epoch 7/50\n",
      "384/384 [==============================] - 0s 638us/step - loss: 0.4330 - accuracy: 0.7901\n",
      "Epoch 8/50\n",
      "384/384 [==============================] - 0s 629us/step - loss: 0.4361 - accuracy: 0.7810\n",
      "Epoch 9/50\n",
      "384/384 [==============================] - 0s 633us/step - loss: 0.4280 - accuracy: 0.7823\n",
      "Epoch 10/50\n",
      "384/384 [==============================] - 0s 627us/step - loss: 0.4184 - accuracy: 0.8083\n",
      "Epoch 11/50\n",
      "384/384 [==============================] - 0s 641us/step - loss: 0.4158 - accuracy: 0.7992\n",
      "Epoch 12/50\n",
      "384/384 [==============================] - 0s 646us/step - loss: 0.4066 - accuracy: 0.7953\n",
      "Epoch 13/50\n",
      "384/384 [==============================] - 0s 647us/step - loss: 0.4014 - accuracy: 0.8188\n",
      "Epoch 14/50\n",
      "384/384 [==============================] - 0s 648us/step - loss: 0.4006 - accuracy: 0.8070\n",
      "Epoch 15/50\n",
      "384/384 [==============================] - 0s 648us/step - loss: 0.3875 - accuracy: 0.8096\n",
      "Epoch 16/50\n",
      "384/384 [==============================] - 0s 633us/step - loss: 0.3844 - accuracy: 0.8240\n",
      "Epoch 17/50\n",
      "384/384 [==============================] - 0s 644us/step - loss: 0.3800 - accuracy: 0.8305\n",
      "Epoch 18/50\n",
      "384/384 [==============================] - 0s 728us/step - loss: 0.3726 - accuracy: 0.8344\n",
      "Epoch 19/50\n",
      "384/384 [==============================] - 0s 649us/step - loss: 0.3697 - accuracy: 0.8214\n",
      "Epoch 20/50\n",
      "384/384 [==============================] - 0s 651us/step - loss: 0.3781 - accuracy: 0.8318\n",
      "Epoch 21/50\n",
      "384/384 [==============================] - 0s 665us/step - loss: 0.3614 - accuracy: 0.8370\n",
      "Epoch 22/50\n",
      "384/384 [==============================] - 0s 661us/step - loss: 0.3548 - accuracy: 0.8305\n",
      "Epoch 23/50\n",
      "384/384 [==============================] - 0s 632us/step - loss: 0.3535 - accuracy: 0.8357\n",
      "Epoch 24/50\n",
      "384/384 [==============================] - 0s 642us/step - loss: 0.3443 - accuracy: 0.8435\n",
      "Epoch 25/50\n",
      "384/384 [==============================] - 0s 633us/step - loss: 0.3390 - accuracy: 0.8527\n",
      "Epoch 26/50\n",
      "384/384 [==============================] - 0s 635us/step - loss: 0.3320 - accuracy: 0.8527\n",
      "Epoch 27/50\n",
      "384/384 [==============================] - 0s 704us/step - loss: 0.3337 - accuracy: 0.8579\n",
      "Epoch 28/50\n",
      "384/384 [==============================] - 0s 647us/step - loss: 0.3210 - accuracy: 0.8670\n",
      "Epoch 29/50\n",
      "384/384 [==============================] - 0s 705us/step - loss: 0.3218 - accuracy: 0.8644\n",
      "Epoch 30/50\n",
      "384/384 [==============================] - 0s 726us/step - loss: 0.3138 - accuracy: 0.8657\n",
      "Epoch 31/50\n",
      "384/384 [==============================] - 0s 1ms/step - loss: 0.3109 - accuracy: 0.8801\n",
      "Epoch 32/50\n",
      "384/384 [==============================] - 0s 736us/step - loss: 0.3079 - accuracy: 0.8735\n",
      "Epoch 33/50\n",
      "384/384 [==============================] - 0s 887us/step - loss: 0.3046 - accuracy: 0.8696\n",
      "Epoch 34/50\n",
      "384/384 [==============================] - 0s 640us/step - loss: 0.2944 - accuracy: 0.8618\n",
      "Epoch 35/50\n",
      "384/384 [==============================] - 0s 633us/step - loss: 0.2872 - accuracy: 0.8761\n",
      "Epoch 36/50\n",
      "384/384 [==============================] - 0s 647us/step - loss: 0.2861 - accuracy: 0.8735\n",
      "Epoch 37/50\n",
      "384/384 [==============================] - 0s 672us/step - loss: 0.2841 - accuracy: 0.8853\n",
      "Epoch 38/50\n",
      "384/384 [==============================] - 0s 658us/step - loss: 0.2781 - accuracy: 0.8787\n",
      "Epoch 39/50\n",
      "384/384 [==============================] - 0s 634us/step - loss: 0.2709 - accuracy: 0.8814\n",
      "Epoch 40/50\n",
      "384/384 [==============================] - 0s 635us/step - loss: 0.2631 - accuracy: 0.8814\n",
      "Epoch 41/50\n",
      "384/384 [==============================] - 0s 632us/step - loss: 0.2633 - accuracy: 0.8853\n",
      "Epoch 42/50\n",
      "384/384 [==============================] - 0s 630us/step - loss: 0.2587 - accuracy: 0.8866\n",
      "Epoch 43/50\n",
      "384/384 [==============================] - 0s 635us/step - loss: 0.2557 - accuracy: 0.8957\n",
      "Epoch 44/50\n",
      "384/384 [==============================] - 0s 662us/step - loss: 0.2451 - accuracy: 0.8944\n",
      "Epoch 45/50\n",
      "384/384 [==============================] - 0s 629us/step - loss: 0.2478 - accuracy: 0.8931\n",
      "Epoch 46/50\n",
      "384/384 [==============================] - 0s 628us/step - loss: 0.2360 - accuracy: 0.9035\n",
      "Epoch 47/50\n",
      "384/384 [==============================] - 0s 702us/step - loss: 0.2243 - accuracy: 0.9074\n",
      "Epoch 48/50\n",
      "384/384 [==============================] - 0s 672us/step - loss: 0.2294 - accuracy: 0.9009\n",
      "Epoch 49/50\n",
      "384/384 [==============================] - 0s 806us/step - loss: 0.2248 - accuracy: 0.9126\n",
      "Epoch 50/50\n",
      "384/384 [==============================] - 0s 629us/step - loss: 0.2234 - accuracy: 0.9100\n"
     ]
    },
    {
     "data": {
      "text/plain": [
       "<keras.callbacks.History at 0x165286a30>"
      ]
     },
     "execution_count": 363,
     "metadata": {},
     "output_type": "execute_result"
    }
   ],
   "source": [
    "def get_basic_model():\n",
    "  model = tf.keras.Sequential([\n",
    "    normalizer,\n",
    "    tf.keras.layers.Dense(50, activation='relu'),\n",
    "    tf.keras.layers.Dense(50, activation='relu'),\n",
    "    tf.keras.layers.Dense(10, activation='softmax')\n",
    "  ])\n",
    "\n",
    "  model.compile(optimizer='adam',\n",
    "                loss = 'sparse_categorical_crossentropy',\n",
    "                metrics=['accuracy'])\n",
    "  return model\n",
    "\n",
    "model = get_basic_model()\n",
    "\n",
    "log_dir = \"logs/fit/\" + datetime.datetime.now().strftime(\"%Y%m%d-%H%M%S\")\n",
    "tensorboard_callback = tf.keras.callbacks.TensorBoard(log_dir=log_dir, histogram_freq=1)\n",
    "\n",
    "model.fit(feats, outcome, epochs=50, batch_size=BATCH_SIZE)"
   ]
  },
  {
   "cell_type": "code",
   "execution_count": 112,
   "id": "eeab8a3d",
   "metadata": {},
   "outputs": [
    {
     "name": "stdout",
     "output_type": "stream",
     "text": [
      "INFO:tensorflow:Assets written to: saved_model/my_model/assets\n"
     ]
    }
   ],
   "source": [
    "!mkdir -p saved_model\n",
    "model.save('saved_model/my_model')"
   ]
  },
  {
   "cell_type": "markdown",
   "id": "d0adbd50",
   "metadata": {},
   "source": [
    "## Predictions"
   ]
  },
  {
   "cell_type": "code",
   "execution_count": 380,
   "id": "04eee4a4",
   "metadata": {},
   "outputs": [
    {
     "name": "stdout",
     "output_type": "stream",
     "text": [
      "[[4.6097789e-02 9.5390218e-01 5.7144423e-09 3.0067941e-09 3.2220500e-09\n",
      "  1.2087788e-08 2.6904450e-09 6.3051351e-09 3.0234835e-09 5.3067937e-09]\n",
      " [2.4759465e-01 7.5240535e-01 1.5435891e-10 5.0920913e-11 5.4625266e-11\n",
      "  3.3906750e-10 6.5096796e-11 2.5029850e-10 6.3927266e-11 1.1480459e-10]\n",
      " [9.9436176e-01 5.6381617e-03 5.9544579e-16 5.5087145e-17 2.5899417e-17\n",
      "  2.7106052e-16 1.5534199e-16 5.2479398e-16 1.3635084e-16 7.4167740e-17]\n",
      " [4.0843606e-01 5.9156394e-01 5.4851596e-15 1.9436704e-15 4.5568208e-15\n",
      "  1.1111692e-14 4.9686216e-15 2.5152115e-14 4.5871154e-15 7.9486690e-15]]\n",
      "[1 1 0 1]\n"
     ]
    }
   ],
   "source": [
    "sample = [[6,148,72,35,0,33.6,.627,50],[6,148,72,35,0,33.6,.627,60],[1,85,66,29,0,26.6,0.351,55],[1,185,66,29,0,26.6,0,55]]\n",
    "prediction = model.predict(sample)\n",
    "print(prediction)\n",
    "\n",
    "classes = np.argmax(prediction, axis = 1)\n",
    "print(classes)"
   ]
  },
  {
   "cell_type": "markdown",
   "id": "2f4f9f86",
   "metadata": {},
   "source": [
    "## Extra: Prediction via SPARQL query"
   ]
  },
  {
   "cell_type": "code",
   "execution_count": 378,
   "id": "c272c05c",
   "metadata": {},
   "outputs": [
    {
     "name": "stdout",
     "output_type": "stream",
     "text": [
      "[[1.0, 85.0, 64.0, 35.0, 0.0, 20.6, 0.0, 25.0]]\n"
     ]
    }
   ],
   "source": [
    "q3 = '\\\n",
    "SPARQL \\\n",
    "PREFIX : <#> \\\n",
    "SELECT * \\\n",
    "FROM <urn:diabetes:data:test2> \\\n",
    "WHERE \\\n",
    "{\\\n",
    "   ?id :pregnancies ?pregnancies; \\\n",
    "   :glucose ?glucose; :bloodPressure \\\n",
    "   ?bp; :skinThickness ?st; \\\n",
    "   :insulin ?insulin; \\\n",
    "   :bmi ?bmi; \\\n",
    "   :diabetesPedigreeFunction ?dbf; \\\n",
    "   :age ?age\\\n",
    "}'\n",
    "\n",
    "cursor = cnxn.cursor()\n",
    "\n",
    "cnxn.setdecoding(pyodbc.SQL_CHAR, encoding='utf-8')\n",
    "\n",
    "cursor.execute(q3)\n",
    "\n",
    "results = [[]]\n",
    "rows = cursor.fetchall()\n",
    "\n",
    "#print(rows[0])\n",
    "\n",
    "for item in range(1,9) :\n",
    "    results[0].append(float(rows[1][item]))\n",
    "print(results)"
   ]
  },
  {
   "cell_type": "code",
   "execution_count": 379,
   "id": "20343438",
   "metadata": {},
   "outputs": [
    {
     "name": "stdout",
     "output_type": "stream",
     "text": [
      "[0]\n"
     ]
    }
   ],
   "source": [
    "prediction2 = model.predict(results)\n",
    "classes2 = np.argmax(prediction2, axis = 1)\n",
    "print(classes2)\n",
    "\n",
    "    "
   ]
  }
 ],
 "metadata": {
  "kernelspec": {
   "display_name": "Python 3 (ipykernel)",
   "language": "python",
   "name": "python3"
  },
  "language_info": {
   "codemirror_mode": {
    "name": "ipython",
    "version": 3
   },
   "file_extension": ".py",
   "mimetype": "text/x-python",
   "name": "python",
   "nbconvert_exporter": "python",
   "pygments_lexer": "ipython3",
   "version": "3.9.9"
  }
 },
 "nbformat": 4,
 "nbformat_minor": 5
}
