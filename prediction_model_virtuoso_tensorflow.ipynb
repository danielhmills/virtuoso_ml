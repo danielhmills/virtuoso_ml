{
 "cells": [
  {
   "cell_type": "markdown",
   "id": "fa18eaa1",
   "metadata": {},
   "source": [
    "## Creating a Prediction Model with Virtuoso and Tensorflow"
   ]
  },
  {
   "cell_type": "markdown",
   "id": "cabb834d",
   "metadata": {},
   "source": [
    "Creating a Tensorflow prediction model from data sourced directly from Virtuoso, using PyODBC. This example leverages PyODBC using SQL or SPASQL for retrieving data that’s applied to the prediction model."
   ]
  },
  {
   "cell_type": "markdown",
   "id": "310636fe",
   "metadata": {},
   "source": [
    "The [dataset](https://www.kaggle.com/mathchi/diabetes-data-set) contains data about female patients of Pima Indian heritage, that are at least 21 years old.\n",
    "\n",
    "Columns:\n",
    "\n",
    "* Pregnancies: Number of times pregnant\n",
    "* Glucose: Plasma glucose concentration a 2 hours in an oral glucose tolerance test\n",
    "* BloodPressure: Diastolic blood pressure (mm Hg)\n",
    "* SkinThickness: Triceps skin fold thickness (mm)\n",
    "* Insulin: 2-Hour serum insulin (mu U/ml)\n",
    "* BMI: Body mass index (weight in kg/(height in m)^2)\n",
    "* DiabetesPedigreeFunction: Diabetes pedigree function\n",
    "* Age: Age (years)\n",
    "* Outcome: Class variable (0 or 1)"
   ]
  },
  {
   "cell_type": "markdown",
   "id": "4d5f2172",
   "metadata": {},
   "source": [
    "## Import Required Libraries"
   ]
  },
  {
   "cell_type": "code",
   "execution_count": 54,
   "id": "ddfa3c97",
   "metadata": {},
   "outputs": [],
   "source": [
    "import pandas as pd\n",
    "import pyodbc\n",
    "import tensorflow as tf\n",
    "import datetime\n",
    "import numpy as np\n",
    "\n",
    "SHUFFLE_BUFFER = 500\n",
    "BATCH_SIZE = 2"
   ]
  },
  {
   "cell_type": "markdown",
   "id": "ef5f585a",
   "metadata": {},
   "source": [
    "### Set Connection, and Create Dataframes"
   ]
  },
  {
   "cell_type": "code",
   "execution_count": 55,
   "id": "44752ba8",
   "metadata": {},
   "outputs": [
    {
     "data": {
      "text/html": [
       "<div>\n",
       "<style scoped>\n",
       "    .dataframe tbody tr th:only-of-type {\n",
       "        vertical-align: middle;\n",
       "    }\n",
       "\n",
       "    .dataframe tbody tr th {\n",
       "        vertical-align: top;\n",
       "    }\n",
       "\n",
       "    .dataframe thead th {\n",
       "        text-align: right;\n",
       "    }\n",
       "</style>\n",
       "<table border=\"1\" class=\"dataframe\">\n",
       "  <thead>\n",
       "    <tr style=\"text-align: right;\">\n",
       "      <th></th>\n",
       "      <th>Pregnancies</th>\n",
       "      <th>Glucose</th>\n",
       "      <th>BloodPressure</th>\n",
       "      <th>SkinThickness</th>\n",
       "      <th>Insulin</th>\n",
       "      <th>BMI</th>\n",
       "      <th>DiabetesPedigreeFunction</th>\n",
       "      <th>Age</th>\n",
       "      <th>Outcome</th>\n",
       "    </tr>\n",
       "  </thead>\n",
       "  <tbody>\n",
       "    <tr>\n",
       "      <th>0</th>\n",
       "      <td>6</td>\n",
       "      <td>148</td>\n",
       "      <td>72</td>\n",
       "      <td>35</td>\n",
       "      <td>0</td>\n",
       "      <td>33.6</td>\n",
       "      <td>0.627</td>\n",
       "      <td>50</td>\n",
       "      <td>1</td>\n",
       "    </tr>\n",
       "    <tr>\n",
       "      <th>1</th>\n",
       "      <td>1</td>\n",
       "      <td>85</td>\n",
       "      <td>66</td>\n",
       "      <td>29</td>\n",
       "      <td>0</td>\n",
       "      <td>26.6</td>\n",
       "      <td>0.351</td>\n",
       "      <td>31</td>\n",
       "      <td>0</td>\n",
       "    </tr>\n",
       "    <tr>\n",
       "      <th>2</th>\n",
       "      <td>8</td>\n",
       "      <td>183</td>\n",
       "      <td>64</td>\n",
       "      <td>0</td>\n",
       "      <td>0</td>\n",
       "      <td>23.3</td>\n",
       "      <td>0.672</td>\n",
       "      <td>32</td>\n",
       "      <td>1</td>\n",
       "    </tr>\n",
       "    <tr>\n",
       "      <th>3</th>\n",
       "      <td>1</td>\n",
       "      <td>89</td>\n",
       "      <td>66</td>\n",
       "      <td>23</td>\n",
       "      <td>94</td>\n",
       "      <td>28.1</td>\n",
       "      <td>0.167</td>\n",
       "      <td>21</td>\n",
       "      <td>0</td>\n",
       "    </tr>\n",
       "    <tr>\n",
       "      <th>4</th>\n",
       "      <td>0</td>\n",
       "      <td>137</td>\n",
       "      <td>40</td>\n",
       "      <td>35</td>\n",
       "      <td>168</td>\n",
       "      <td>43.1</td>\n",
       "      <td>2.288</td>\n",
       "      <td>33</td>\n",
       "      <td>1</td>\n",
       "    </tr>\n",
       "  </tbody>\n",
       "</table>\n",
       "</div>"
      ],
      "text/plain": [
       "   Pregnancies  Glucose  BloodPressure  SkinThickness  Insulin   BMI  \\\n",
       "0            6      148             72             35        0  33.6   \n",
       "1            1       85             66             29        0  26.6   \n",
       "2            8      183             64              0        0  23.3   \n",
       "3            1       89             66             23       94  28.1   \n",
       "4            0      137             40             35      168  43.1   \n",
       "\n",
       "   DiabetesPedigreeFunction  Age  Outcome  \n",
       "0                     0.627   50        1  \n",
       "1                     0.351   31        0  \n",
       "2                     0.672   32        1  \n",
       "3                     0.167   21        0  \n",
       "4                     2.288   33        1  "
      ]
     },
     "execution_count": 55,
     "metadata": {},
     "output_type": "execute_result"
    }
   ],
   "source": [
    "cnxn = pyodbc.connect(\"DSN=Local Virtuoso;UID=dba;pwd=dba\")\n",
    "\n",
    "q = 'SELECT * FROM \"tensorflow\".\"diabetes\".data'\n",
    "\n",
    "d = pd.read_sql_query(q,cnxn)\n",
    "\n",
    "d.head()\n"
   ]
  },
  {
   "cell_type": "code",
   "execution_count": 56,
   "id": "4df43b1e",
   "metadata": {},
   "outputs": [
    {
     "data": {
      "text/html": [
       "<div>\n",
       "<style scoped>\n",
       "    .dataframe tbody tr th:only-of-type {\n",
       "        vertical-align: middle;\n",
       "    }\n",
       "\n",
       "    .dataframe tbody tr th {\n",
       "        vertical-align: top;\n",
       "    }\n",
       "\n",
       "    .dataframe thead th {\n",
       "        text-align: right;\n",
       "    }\n",
       "</style>\n",
       "<table border=\"1\" class=\"dataframe\">\n",
       "  <thead>\n",
       "    <tr style=\"text-align: right;\">\n",
       "      <th></th>\n",
       "      <th>Pregnancies</th>\n",
       "      <th>Glucose</th>\n",
       "      <th>BloodPressure</th>\n",
       "      <th>SkinThickness</th>\n",
       "      <th>Insulin</th>\n",
       "      <th>BMI</th>\n",
       "      <th>DiabetesPedigreeFunction</th>\n",
       "      <th>Age</th>\n",
       "    </tr>\n",
       "  </thead>\n",
       "  <tbody>\n",
       "    <tr>\n",
       "      <th>0</th>\n",
       "      <td>6</td>\n",
       "      <td>148</td>\n",
       "      <td>72</td>\n",
       "      <td>35</td>\n",
       "      <td>0</td>\n",
       "      <td>33.6</td>\n",
       "      <td>0.627</td>\n",
       "      <td>50</td>\n",
       "    </tr>\n",
       "    <tr>\n",
       "      <th>1</th>\n",
       "      <td>1</td>\n",
       "      <td>85</td>\n",
       "      <td>66</td>\n",
       "      <td>29</td>\n",
       "      <td>0</td>\n",
       "      <td>26.6</td>\n",
       "      <td>0.351</td>\n",
       "      <td>31</td>\n",
       "    </tr>\n",
       "    <tr>\n",
       "      <th>2</th>\n",
       "      <td>8</td>\n",
       "      <td>183</td>\n",
       "      <td>64</td>\n",
       "      <td>0</td>\n",
       "      <td>0</td>\n",
       "      <td>23.3</td>\n",
       "      <td>0.672</td>\n",
       "      <td>32</td>\n",
       "    </tr>\n",
       "    <tr>\n",
       "      <th>3</th>\n",
       "      <td>1</td>\n",
       "      <td>89</td>\n",
       "      <td>66</td>\n",
       "      <td>23</td>\n",
       "      <td>94</td>\n",
       "      <td>28.1</td>\n",
       "      <td>0.167</td>\n",
       "      <td>21</td>\n",
       "    </tr>\n",
       "    <tr>\n",
       "      <th>4</th>\n",
       "      <td>0</td>\n",
       "      <td>137</td>\n",
       "      <td>40</td>\n",
       "      <td>35</td>\n",
       "      <td>168</td>\n",
       "      <td>43.1</td>\n",
       "      <td>2.288</td>\n",
       "      <td>33</td>\n",
       "    </tr>\n",
       "  </tbody>\n",
       "</table>\n",
       "</div>"
      ],
      "text/plain": [
       "   Pregnancies  Glucose  BloodPressure  SkinThickness  Insulin   BMI  \\\n",
       "0            6      148             72             35        0  33.6   \n",
       "1            1       85             66             29        0  26.6   \n",
       "2            8      183             64              0        0  23.3   \n",
       "3            1       89             66             23       94  28.1   \n",
       "4            0      137             40             35      168  43.1   \n",
       "\n",
       "   DiabetesPedigreeFunction  Age  \n",
       "0                     0.627   50  \n",
       "1                     0.351   31  \n",
       "2                     0.672   32  \n",
       "3                     0.167   21  \n",
       "4                     2.288   33  "
      ]
     },
     "execution_count": 56,
     "metadata": {},
     "output_type": "execute_result"
    }
   ],
   "source": [
    "df = pd.DataFrame(d)\n",
    "\n",
    "outcome = df.pop(\"Outcome\")\n",
    "\n",
    "df.head()\n",
    "\n"
   ]
  },
  {
   "cell_type": "code",
   "execution_count": 57,
   "id": "efbf2bc7",
   "metadata": {},
   "outputs": [],
   "source": [
    "feat_names = df.columns.tolist()\n",
    "feats = df[feat_names]\n"
   ]
  },
  {
   "cell_type": "markdown",
   "id": "518237a5",
   "metadata": {},
   "source": [
    "### Convert to Tensor and continue in TensorFlow"
   ]
  },
  {
   "cell_type": "code",
   "execution_count": 58,
   "id": "683fe921",
   "metadata": {},
   "outputs": [
    {
     "name": "stdout",
     "output_type": "stream",
     "text": [
      "tf.Tensor(\n",
      "[[  6.    148.     72.    ...  33.6     0.627  50.   ]\n",
      " [  1.     85.     66.    ...  26.6     0.351  31.   ]\n",
      " [  8.    183.     64.    ...  23.3     0.672  32.   ]\n",
      " ...\n",
      " [  2.    122.     70.    ...  36.8     0.34   27.   ]\n",
      " [  5.    121.     72.    ...  26.2     0.245  30.   ]\n",
      " [  1.    126.     60.    ...  30.1     0.349  47.   ]], shape=(767, 8), dtype=float64)\n"
     ]
    },
    {
     "data": {
      "text/plain": [
       "<tf.Tensor: shape=(3, 8), dtype=float32, numpy=\n",
       "array([[ 0.6387271 ,  0.84705454,  0.14960383,  0.90778947, -0.6935593 ,\n",
       "         0.20362139,  0.4676379 ,  1.4246367 ],\n",
       "       [-0.8458293 , -1.1243613 , -0.16038112,  0.5315605 , -0.6935593 ,\n",
       "        -0.6842581 , -0.36549374, -0.1917781 ],\n",
       "       [ 1.2325497 ,  1.9422855 , -0.26370946, -1.2868794 , -0.6935593 ,\n",
       "        -1.1028302 ,  0.6034746 , -0.10670363]], dtype=float32)>"
      ]
     },
     "execution_count": 58,
     "metadata": {},
     "output_type": "execute_result"
    }
   ],
   "source": [
    "print(tf.convert_to_tensor(feats))\n",
    "\n",
    "normalizer = tf.keras.layers.Normalization(axis=-1)\n",
    "normalizer.adapt(feats)\n",
    "normalizer(feats.iloc[:3])"
   ]
  },
  {
   "cell_type": "markdown",
   "id": "29880580",
   "metadata": {},
   "source": [
    "### Create Model"
   ]
  },
  {
   "cell_type": "code",
   "execution_count": 131,
   "id": "94df66b8",
   "metadata": {},
   "outputs": [
    {
     "name": "stdout",
     "output_type": "stream",
     "text": [
      "Epoch 1/50\n",
      "384/384 [==============================] - 0s 660us/step - loss: 0.7410 - accuracy: 0.7262\n",
      "Epoch 2/50\n",
      "384/384 [==============================] - 0s 645us/step - loss: 0.4826 - accuracy: 0.7679\n",
      "Epoch 3/50\n",
      "384/384 [==============================] - 0s 644us/step - loss: 0.4677 - accuracy: 0.7705\n",
      "Epoch 4/50\n",
      "384/384 [==============================] - 0s 640us/step - loss: 0.4466 - accuracy: 0.7901\n",
      "Epoch 5/50\n",
      "384/384 [==============================] - 0s 647us/step - loss: 0.4436 - accuracy: 0.7797\n",
      "Epoch 6/50\n",
      "384/384 [==============================] - 0s 672us/step - loss: 0.4406 - accuracy: 0.7836\n",
      "Epoch 7/50\n",
      "384/384 [==============================] - 0s 655us/step - loss: 0.4313 - accuracy: 0.7797\n",
      "Epoch 8/50\n",
      "384/384 [==============================] - 0s 668us/step - loss: 0.4235 - accuracy: 0.8083\n",
      "Epoch 9/50\n",
      "384/384 [==============================] - 0s 670us/step - loss: 0.4153 - accuracy: 0.7979\n",
      "Epoch 10/50\n",
      "384/384 [==============================] - 0s 670us/step - loss: 0.4101 - accuracy: 0.8031\n",
      "Epoch 11/50\n",
      "384/384 [==============================] - 0s 704us/step - loss: 0.4004 - accuracy: 0.8044\n",
      "Epoch 12/50\n",
      "384/384 [==============================] - 0s 674us/step - loss: 0.3968 - accuracy: 0.8018\n",
      "Epoch 13/50\n",
      "384/384 [==============================] - 0s 666us/step - loss: 0.3874 - accuracy: 0.8136\n",
      "Epoch 14/50\n",
      "384/384 [==============================] - 0s 671us/step - loss: 0.3818 - accuracy: 0.8175\n",
      "Epoch 15/50\n",
      "384/384 [==============================] - 0s 681us/step - loss: 0.3745 - accuracy: 0.8188\n",
      "Epoch 16/50\n",
      "384/384 [==============================] - 0s 685us/step - loss: 0.3717 - accuracy: 0.8240\n",
      "Epoch 17/50\n",
      "384/384 [==============================] - 0s 679us/step - loss: 0.3606 - accuracy: 0.8475\n",
      "Epoch 18/50\n",
      "384/384 [==============================] - 0s 694us/step - loss: 0.3590 - accuracy: 0.8305\n",
      "Epoch 19/50\n",
      "384/384 [==============================] - 0s 664us/step - loss: 0.3509 - accuracy: 0.8579\n",
      "Epoch 20/50\n",
      "384/384 [==============================] - 0s 663us/step - loss: 0.3500 - accuracy: 0.8409\n",
      "Epoch 21/50\n",
      "384/384 [==============================] - 0s 666us/step - loss: 0.3412 - accuracy: 0.8488\n",
      "Epoch 22/50\n",
      "384/384 [==============================] - 0s 681us/step - loss: 0.3373 - accuracy: 0.8475\n",
      "Epoch 23/50\n",
      "384/384 [==============================] - 0s 673us/step - loss: 0.3307 - accuracy: 0.8618\n",
      "Epoch 24/50\n",
      "384/384 [==============================] - 0s 668us/step - loss: 0.3250 - accuracy: 0.8670\n",
      "Epoch 25/50\n",
      "384/384 [==============================] - 0s 675us/step - loss: 0.3199 - accuracy: 0.8709\n",
      "Epoch 26/50\n",
      "384/384 [==============================] - 0s 675us/step - loss: 0.3213 - accuracy: 0.8670\n",
      "Epoch 27/50\n",
      "384/384 [==============================] - 0s 673us/step - loss: 0.3091 - accuracy: 0.8787\n",
      "Epoch 28/50\n",
      "384/384 [==============================] - 0s 679us/step - loss: 0.2986 - accuracy: 0.8761\n",
      "Epoch 29/50\n",
      "384/384 [==============================] - 0s 682us/step - loss: 0.2981 - accuracy: 0.8761\n",
      "Epoch 30/50\n",
      "384/384 [==============================] - 0s 679us/step - loss: 0.3020 - accuracy: 0.8735\n",
      "Epoch 31/50\n",
      "384/384 [==============================] - 0s 685us/step - loss: 0.2870 - accuracy: 0.8801\n",
      "Epoch 32/50\n",
      "384/384 [==============================] - 0s 679us/step - loss: 0.2831 - accuracy: 0.8866\n",
      "Epoch 33/50\n",
      "384/384 [==============================] - 0s 674us/step - loss: 0.2778 - accuracy: 0.8840\n",
      "Epoch 34/50\n",
      "384/384 [==============================] - 0s 680us/step - loss: 0.2791 - accuracy: 0.8774\n",
      "Epoch 35/50\n",
      "384/384 [==============================] - 0s 681us/step - loss: 0.2748 - accuracy: 0.8879\n",
      "Epoch 36/50\n",
      "384/384 [==============================] - 0s 673us/step - loss: 0.2636 - accuracy: 0.8892\n",
      "Epoch 37/50\n",
      "384/384 [==============================] - 0s 674us/step - loss: 0.2540 - accuracy: 0.9022\n",
      "Epoch 38/50\n",
      "384/384 [==============================] - 0s 695us/step - loss: 0.2559 - accuracy: 0.8983\n",
      "Epoch 39/50\n",
      "384/384 [==============================] - 0s 681us/step - loss: 0.2480 - accuracy: 0.9074\n",
      "Epoch 40/50\n",
      "384/384 [==============================] - 0s 678us/step - loss: 0.2491 - accuracy: 0.9087\n",
      "Epoch 41/50\n",
      "384/384 [==============================] - 0s 675us/step - loss: 0.2365 - accuracy: 0.9126\n",
      "Epoch 42/50\n",
      "384/384 [==============================] - 0s 680us/step - loss: 0.2327 - accuracy: 0.9140\n",
      "Epoch 43/50\n",
      "384/384 [==============================] - 0s 677us/step - loss: 0.2295 - accuracy: 0.9140\n",
      "Epoch 44/50\n",
      "384/384 [==============================] - 0s 684us/step - loss: 0.2233 - accuracy: 0.9126\n",
      "Epoch 45/50\n",
      "384/384 [==============================] - 0s 681us/step - loss: 0.2198 - accuracy: 0.9205\n",
      "Epoch 46/50\n",
      "384/384 [==============================] - 0s 678us/step - loss: 0.2174 - accuracy: 0.9244\n",
      "Epoch 47/50\n",
      "384/384 [==============================] - 0s 663us/step - loss: 0.2070 - accuracy: 0.9244\n",
      "Epoch 48/50\n",
      "384/384 [==============================] - 0s 678us/step - loss: 0.2026 - accuracy: 0.9283\n",
      "Epoch 49/50\n",
      "384/384 [==============================] - 0s 665us/step - loss: 0.2049 - accuracy: 0.9270\n",
      "Epoch 50/50\n",
      "384/384 [==============================] - 0s 689us/step - loss: 0.1955 - accuracy: 0.9322\n"
     ]
    },
    {
     "data": {
      "text/plain": [
       "<keras.callbacks.History at 0x161f66d90>"
      ]
     },
     "execution_count": 131,
     "metadata": {},
     "output_type": "execute_result"
    }
   ],
   "source": [
    "def get_basic_model():\n",
    "  model = tf.keras.Sequential([\n",
    "    normalizer,\n",
    "    tf.keras.layers.Dense(50, activation='relu'),\n",
    "    tf.keras.layers.Dense(50, activation='relu'),\n",
    "    tf.keras.layers.Dense(10, activation='softmax')\n",
    "  ])\n",
    "\n",
    "  model.compile(optimizer='adam',\n",
    "                loss = 'sparse_categorical_crossentropy',\n",
    "                metrics=['accuracy'])\n",
    "  return model\n",
    "\n",
    "model = get_basic_model()\n",
    "\n",
    "model.fit(feats, outcome, epochs=50, batch_size=BATCH_SIZE)"
   ]
  },
  {
   "cell_type": "code",
   "execution_count": 132,
   "id": "eeab8a3d",
   "metadata": {},
   "outputs": [
    {
     "name": "stdout",
     "output_type": "stream",
     "text": [
      "INFO:tensorflow:Assets written to: saved_model/my_model/assets\n"
     ]
    }
   ],
   "source": [
    "!mkdir -p saved_model\n",
    "model.save('saved_model/my_model')"
   ]
  },
  {
   "cell_type": "markdown",
   "id": "d0adbd50",
   "metadata": {},
   "source": [
    "## Test Predictions"
   ]
  },
  {
   "cell_type": "code",
   "execution_count": 137,
   "id": "04eee4a4",
   "metadata": {},
   "outputs": [
    {
     "name": "stdout",
     "output_type": "stream",
     "text": [
      "[[1.10631852e-04 9.99889374e-01 7.53423296e-11 6.22901383e-11\n",
      "  1.18493035e-10 8.15207485e-11 8.30141997e-11 6.90038998e-11\n",
      "  7.55178559e-11 1.15634294e-10]\n",
      " [3.66192951e-04 9.99633789e-01 1.29888617e-11 7.91407651e-12\n",
      "  1.96529078e-11 1.83023527e-11 1.33574072e-11 1.07776791e-11\n",
      "  1.47946117e-11 2.84010333e-11]\n",
      " [9.52655494e-01 4.73444536e-02 8.03585948e-11 2.52314176e-11\n",
      "  5.23639916e-11 1.22750241e-10 4.88582542e-11 1.01292906e-11\n",
      "  5.94956237e-11 8.83622620e-11]\n",
      " [3.40772808e-01 6.59226656e-01 2.92345490e-08 3.36105330e-08\n",
      "  6.69027287e-08 7.89286290e-08 5.25233723e-08 3.98892190e-08\n",
      "  6.42667501e-08 9.31192119e-08]]\n",
      "[1 1 0 1]\n"
     ]
    }
   ],
   "source": [
    "sample = [[6,148,72,35,0,33.6,.627,50],[6,148,72,35,0,33.6,.627,60],[1,85,66,29,0,26.6,0.351,55],[1,185,66,29,0,26.6,0.422,55]]\n",
    "prediction = model.predict(sample)\n",
    "print(prediction)\n",
    "\n",
    "classes = np.argmax(prediction, axis = 1)\n",
    "print(classes)"
   ]
  },
  {
   "cell_type": "markdown",
   "id": "2f4f9f86",
   "metadata": {},
   "source": [
    "## Extra: Prediction via SPARQL query"
   ]
  },
  {
   "cell_type": "markdown",
   "id": "d0ab3e7d",
   "metadata": {},
   "source": [
    "### Get SPARQL Query Results using SPARQL-within-SQL (SPASQL)"
   ]
  },
  {
   "cell_type": "code",
   "execution_count": 138,
   "id": "c272c05c",
   "metadata": {},
   "outputs": [
    {
     "name": "stdout",
     "output_type": "stream",
     "text": [
      "('#1', '0', '85', '75', '35', '0', '30.39999961853027', '0', '35')\n"
     ]
    }
   ],
   "source": [
    "q3 = '\\\n",
    "SPARQL \\\n",
    "PREFIX : <#> \\\n",
    "SELECT * \\\n",
    "FROM <urn:diabetes:data:test> \\\n",
    "WHERE \\\n",
    "{\\\n",
    "   ?id :pregnancies ?pregnancies; \\\n",
    "   :glucose ?glucose; :bloodPressure \\\n",
    "   ?bp; :skinThickness ?st; \\\n",
    "   :insulin ?insulin; \\\n",
    "   :bmi ?bmi; \\\n",
    "   :diabetesPedigreeFunction ?dbf; \\\n",
    "   :age ?age\\\n",
    "}'\n",
    "\n",
    "cursor = cnxn.cursor()\n",
    "\n",
    "cnxn.setdecoding(pyodbc.SQL_CHAR, encoding='utf-8')\n",
    "\n",
    "cursor.execute(q3)\n",
    "\n",
    "results = [[]]\n",
    "\n",
    "#Get the first row\n",
    "rows = cursor.fetchone()\n",
    "\n",
    "print(rows)\n",
    "\n",
    "for item in range(1,9) :\n",
    "    results[0].append(float(rows[item]))"
   ]
  },
  {
   "cell_type": "markdown",
   "id": "2dfa81fb",
   "metadata": {},
   "source": [
    "### Get Prediction"
   ]
  },
  {
   "cell_type": "code",
   "execution_count": 98,
   "id": "20343438",
   "metadata": {},
   "outputs": [
    {
     "name": "stdout",
     "output_type": "stream",
     "text": [
      "[0]\n"
     ]
    }
   ],
   "source": [
    "prediction2 = model.predict(results)\n",
    "classes2 = np.argmax(prediction2, axis = 1)\n",
    "print(classes2)\n",
    "\n",
    "    "
   ]
  }
 ],
 "metadata": {
  "kernelspec": {
   "display_name": "Python 3",
   "language": "python",
   "name": "python3"
  },
  "language_info": {
   "codemirror_mode": {
    "name": "ipython",
    "version": 3
   },
   "file_extension": ".py",
   "mimetype": "text/x-python",
   "name": "python",
   "nbconvert_exporter": "python",
   "pygments_lexer": "ipython3",
   "version": "3.9.9"
  }
 },
 "nbformat": 4,
 "nbformat_minor": 5
}
