{
 "cells": [
  {
   "cell_type": "markdown",
   "id": "6034445a",
   "metadata": {},
   "source": [
    "## Creating and Using a Diabetes Prediction Model Leveraging Tensorflow and Virtuoso"
   ]
  },
  {
   "cell_type": "markdown",
   "id": "e809c42d",
   "metadata": {},
   "source": [
    "Creating a Tensorflow prediction model from data sourced directly from Virtuoso, using PyODBC. This example uses PyODBC with SQL and SPASQL (SPARQL-within-SQL) for retrieving data that’s applied to the prediction model."
   ]
  },
  {
   "cell_type": "markdown",
   "id": "0a2d183f",
   "metadata": {},
   "source": [
    "The [dataset](https://www.kaggle.com/mathchi/diabetes-data-set) contains data about female patients of Pima Indian heritage, that are at least 21 years old.\n",
    "\n",
    "Columns:\n",
    "\n",
    "* Pregnancies: Number of times pregnant\n",
    "* Glucose: Plasma glucose concentration a 2 hours in an oral glucose tolerance test\n",
    "* BloodPressure: Diastolic blood pressure (mm Hg)\n",
    "* SkinThickness: Triceps skin fold thickness (mm)\n",
    "* Insulin: 2-Hour serum insulin (mu U/ml)\n",
    "* BMI: Body mass index (weight in kg/(height in m)^2)\n",
    "* DiabetesPedigreeFunction: Diabetes pedigree function\n",
    "* Age: Age (years)\n",
    "* Outcome: Class variable (0 or 1)"
   ]
  },
  {
   "cell_type": "markdown",
   "id": "ef5db6e3",
   "metadata": {},
   "source": [
    "## Import Required Libraries"
   ]
  },
  {
   "cell_type": "code",
   "execution_count": 814,
   "id": "40552513",
   "metadata": {},
   "outputs": [],
   "source": [
    "import pandas as pd\n",
    "import pyodbc\n",
    "import tensorflow as tf\n",
    "import datetime\n",
    "import numpy as np\n",
    "\n",
    "SHUFFLE_BUFFER = 500\n",
    "BATCH_SIZE = 2"
   ]
  },
  {
   "cell_type": "markdown",
   "id": "8035e5bc",
   "metadata": {},
   "source": [
    "### Set Connection, and Create Dataframes"
   ]
  },
  {
   "cell_type": "code",
   "execution_count": 833,
   "id": "a09078b6",
   "metadata": {},
   "outputs": [
    {
     "data": {
      "text/html": [
       "<div>\n",
       "<style scoped>\n",
       "    .dataframe tbody tr th:only-of-type {\n",
       "        vertical-align: middle;\n",
       "    }\n",
       "\n",
       "    .dataframe tbody tr th {\n",
       "        vertical-align: top;\n",
       "    }\n",
       "\n",
       "    .dataframe thead th {\n",
       "        text-align: right;\n",
       "    }\n",
       "</style>\n",
       "<table border=\"1\" class=\"dataframe\">\n",
       "  <thead>\n",
       "    <tr style=\"text-align: right;\">\n",
       "      <th></th>\n",
       "      <th>Pregnancies</th>\n",
       "      <th>Glucose</th>\n",
       "      <th>BloodPressure</th>\n",
       "      <th>SkinThickness</th>\n",
       "      <th>Insulin</th>\n",
       "      <th>BMI</th>\n",
       "      <th>DiabetesPedigreeFunction</th>\n",
       "      <th>Age</th>\n",
       "      <th>Outcome</th>\n",
       "    </tr>\n",
       "  </thead>\n",
       "  <tbody>\n",
       "    <tr>\n",
       "      <th>0</th>\n",
       "      <td>6</td>\n",
       "      <td>148</td>\n",
       "      <td>72</td>\n",
       "      <td>35</td>\n",
       "      <td>0</td>\n",
       "      <td>33.6</td>\n",
       "      <td>0.627</td>\n",
       "      <td>50</td>\n",
       "      <td>1</td>\n",
       "    </tr>\n",
       "    <tr>\n",
       "      <th>1</th>\n",
       "      <td>1</td>\n",
       "      <td>85</td>\n",
       "      <td>66</td>\n",
       "      <td>29</td>\n",
       "      <td>0</td>\n",
       "      <td>26.6</td>\n",
       "      <td>0.351</td>\n",
       "      <td>31</td>\n",
       "      <td>0</td>\n",
       "    </tr>\n",
       "    <tr>\n",
       "      <th>2</th>\n",
       "      <td>8</td>\n",
       "      <td>183</td>\n",
       "      <td>64</td>\n",
       "      <td>0</td>\n",
       "      <td>0</td>\n",
       "      <td>23.3</td>\n",
       "      <td>0.672</td>\n",
       "      <td>32</td>\n",
       "      <td>1</td>\n",
       "    </tr>\n",
       "    <tr>\n",
       "      <th>3</th>\n",
       "      <td>1</td>\n",
       "      <td>89</td>\n",
       "      <td>66</td>\n",
       "      <td>23</td>\n",
       "      <td>94</td>\n",
       "      <td>28.1</td>\n",
       "      <td>0.167</td>\n",
       "      <td>21</td>\n",
       "      <td>0</td>\n",
       "    </tr>\n",
       "    <tr>\n",
       "      <th>4</th>\n",
       "      <td>0</td>\n",
       "      <td>137</td>\n",
       "      <td>40</td>\n",
       "      <td>35</td>\n",
       "      <td>168</td>\n",
       "      <td>43.1</td>\n",
       "      <td>2.288</td>\n",
       "      <td>33</td>\n",
       "      <td>1</td>\n",
       "    </tr>\n",
       "  </tbody>\n",
       "</table>\n",
       "</div>"
      ],
      "text/plain": [
       "   Pregnancies  Glucose  BloodPressure  SkinThickness  Insulin   BMI  \\\n",
       "0            6      148             72             35        0  33.6   \n",
       "1            1       85             66             29        0  26.6   \n",
       "2            8      183             64              0        0  23.3   \n",
       "3            1       89             66             23       94  28.1   \n",
       "4            0      137             40             35      168  43.1   \n",
       "\n",
       "   DiabetesPedigreeFunction  Age  Outcome  \n",
       "0                     0.627   50        1  \n",
       "1                     0.351   31        0  \n",
       "2                     0.672   32        1  \n",
       "3                     0.167   21        0  \n",
       "4                     2.288   33        1  "
      ]
     },
     "execution_count": 833,
     "metadata": {},
     "output_type": "execute_result"
    }
   ],
   "source": [
    "cnxn = pyodbc.connect(\"DSN=Local Virtuoso;UID=dba;pwd=dba\")\n",
    "\n",
    "q = 'SELECT * FROM \"tensorflow\".\"diabetes\".data'\n",
    "\n",
    "d = pd.read_sql_query(q,cnxn)\n",
    "\n",
    "d.head()\n"
   ]
  },
  {
   "cell_type": "code",
   "execution_count": 816,
   "id": "6164b568",
   "metadata": {},
   "outputs": [
    {
     "data": {
      "text/html": [
       "<div>\n",
       "<style scoped>\n",
       "    .dataframe tbody tr th:only-of-type {\n",
       "        vertical-align: middle;\n",
       "    }\n",
       "\n",
       "    .dataframe tbody tr th {\n",
       "        vertical-align: top;\n",
       "    }\n",
       "\n",
       "    .dataframe thead th {\n",
       "        text-align: right;\n",
       "    }\n",
       "</style>\n",
       "<table border=\"1\" class=\"dataframe\">\n",
       "  <thead>\n",
       "    <tr style=\"text-align: right;\">\n",
       "      <th></th>\n",
       "      <th>Pregnancies</th>\n",
       "      <th>Glucose</th>\n",
       "      <th>BloodPressure</th>\n",
       "      <th>SkinThickness</th>\n",
       "      <th>Insulin</th>\n",
       "      <th>BMI</th>\n",
       "      <th>DiabetesPedigreeFunction</th>\n",
       "      <th>Age</th>\n",
       "    </tr>\n",
       "  </thead>\n",
       "  <tbody>\n",
       "    <tr>\n",
       "      <th>0</th>\n",
       "      <td>6</td>\n",
       "      <td>148</td>\n",
       "      <td>72</td>\n",
       "      <td>35</td>\n",
       "      <td>0</td>\n",
       "      <td>33.6</td>\n",
       "      <td>0.627</td>\n",
       "      <td>50</td>\n",
       "    </tr>\n",
       "    <tr>\n",
       "      <th>1</th>\n",
       "      <td>1</td>\n",
       "      <td>85</td>\n",
       "      <td>66</td>\n",
       "      <td>29</td>\n",
       "      <td>0</td>\n",
       "      <td>26.6</td>\n",
       "      <td>0.351</td>\n",
       "      <td>31</td>\n",
       "    </tr>\n",
       "    <tr>\n",
       "      <th>2</th>\n",
       "      <td>8</td>\n",
       "      <td>183</td>\n",
       "      <td>64</td>\n",
       "      <td>0</td>\n",
       "      <td>0</td>\n",
       "      <td>23.3</td>\n",
       "      <td>0.672</td>\n",
       "      <td>32</td>\n",
       "    </tr>\n",
       "    <tr>\n",
       "      <th>3</th>\n",
       "      <td>1</td>\n",
       "      <td>89</td>\n",
       "      <td>66</td>\n",
       "      <td>23</td>\n",
       "      <td>94</td>\n",
       "      <td>28.1</td>\n",
       "      <td>0.167</td>\n",
       "      <td>21</td>\n",
       "    </tr>\n",
       "    <tr>\n",
       "      <th>4</th>\n",
       "      <td>0</td>\n",
       "      <td>137</td>\n",
       "      <td>40</td>\n",
       "      <td>35</td>\n",
       "      <td>168</td>\n",
       "      <td>43.1</td>\n",
       "      <td>2.288</td>\n",
       "      <td>33</td>\n",
       "    </tr>\n",
       "  </tbody>\n",
       "</table>\n",
       "</div>"
      ],
      "text/plain": [
       "   Pregnancies  Glucose  BloodPressure  SkinThickness  Insulin   BMI  \\\n",
       "0            6      148             72             35        0  33.6   \n",
       "1            1       85             66             29        0  26.6   \n",
       "2            8      183             64              0        0  23.3   \n",
       "3            1       89             66             23       94  28.1   \n",
       "4            0      137             40             35      168  43.1   \n",
       "\n",
       "   DiabetesPedigreeFunction  Age  \n",
       "0                     0.627   50  \n",
       "1                     0.351   31  \n",
       "2                     0.672   32  \n",
       "3                     0.167   21  \n",
       "4                     2.288   33  "
      ]
     },
     "execution_count": 816,
     "metadata": {},
     "output_type": "execute_result"
    }
   ],
   "source": [
    "df = pd.DataFrame(d)\n",
    "\n",
    "outcome = df.pop(\"Outcome\")\n",
    "\n",
    "df.head()\n",
    "\n"
   ]
  },
  {
   "cell_type": "code",
   "execution_count": 817,
   "id": "cf4e258a",
   "metadata": {},
   "outputs": [],
   "source": [
    "feat_names = df.columns.tolist()\n",
    "feats = df[feat_names]\n"
   ]
  },
  {
   "cell_type": "code",
   "execution_count": 818,
   "id": "3b106522",
   "metadata": {},
   "outputs": [
    {
     "name": "stdout",
     "output_type": "stream",
     "text": [
      "(767, 8)\n"
     ]
    }
   ],
   "source": [
    "print(feats.shape)"
   ]
  },
  {
   "cell_type": "markdown",
   "id": "0f8f64d2",
   "metadata": {},
   "source": [
    "### Convert to Tensor and continue in TensorFlow"
   ]
  },
  {
   "cell_type": "code",
   "execution_count": 819,
   "id": "36565e43",
   "metadata": {},
   "outputs": [
    {
     "name": "stdout",
     "output_type": "stream",
     "text": [
      "tf.Tensor(\n",
      "[[  6.    148.     72.    ...  33.6     0.627  50.   ]\n",
      " [  1.     85.     66.    ...  26.6     0.351  31.   ]\n",
      " [  8.    183.     64.    ...  23.3     0.672  32.   ]\n",
      " ...\n",
      " [  2.    122.     70.    ...  36.8     0.34   27.   ]\n",
      " [  5.    121.     72.    ...  26.2     0.245  30.   ]\n",
      " [  1.    126.     60.    ...  30.1     0.349  47.   ]], shape=(767, 8), dtype=float64)\n"
     ]
    },
    {
     "data": {
      "text/plain": [
       "<tf.Tensor: shape=(3, 8), dtype=float32, numpy=\n",
       "array([[ 0.6387271 ,  0.84705454,  0.14960383,  0.90778947, -0.6935593 ,\n",
       "         0.20362139,  0.4676379 ,  1.4246367 ],\n",
       "       [-0.8458293 , -1.1243613 , -0.16038112,  0.5315605 , -0.6935593 ,\n",
       "        -0.6842581 , -0.36549374, -0.1917781 ],\n",
       "       [ 1.2325497 ,  1.9422855 , -0.26370946, -1.2868794 , -0.6935593 ,\n",
       "        -1.1028302 ,  0.6034746 , -0.10670363]], dtype=float32)>"
      ]
     },
     "execution_count": 819,
     "metadata": {},
     "output_type": "execute_result"
    }
   ],
   "source": [
    "print(tf.convert_to_tensor(feats))\n",
    "\n",
    "normalizer = tf.keras.layers.Normalization(axis=-1)\n",
    "normalizer.adapt(feats)\n",
    "normalizer(feats.iloc[:3])"
   ]
  },
  {
   "cell_type": "markdown",
   "id": "9f4592ce",
   "metadata": {},
   "source": [
    "### Create Model"
   ]
  },
  {
   "cell_type": "code",
   "execution_count": 820,
   "id": "3f34b09a",
   "metadata": {},
   "outputs": [
    {
     "name": "stdout",
     "output_type": "stream",
     "text": [
      "Epoch 1/50\n",
      "384/384 [==============================] - 2s 710us/step - loss: 0.7440 - accuracy: 0.7027\n",
      "Epoch 2/50\n",
      "384/384 [==============================] - 0s 661us/step - loss: 0.4886 - accuracy: 0.7627\n",
      "Epoch 3/50\n",
      "384/384 [==============================] - 0s 712us/step - loss: 0.4657 - accuracy: 0.7757\n",
      "Epoch 4/50\n",
      "384/384 [==============================] - 0s 671us/step - loss: 0.4539 - accuracy: 0.7927\n",
      "Epoch 5/50\n",
      "384/384 [==============================] - 0s 669us/step - loss: 0.4466 - accuracy: 0.7797\n",
      "Epoch 6/50\n",
      "384/384 [==============================] - 0s 662us/step - loss: 0.4321 - accuracy: 0.7784\n",
      "Epoch 7/50\n",
      "384/384 [==============================] - 0s 681us/step - loss: 0.4272 - accuracy: 0.7888\n",
      "Epoch 8/50\n",
      "384/384 [==============================] - 0s 687us/step - loss: 0.4243 - accuracy: 0.7927\n",
      "Epoch 9/50\n",
      "384/384 [==============================] - 0s 681us/step - loss: 0.4224 - accuracy: 0.8031\n",
      "Epoch 10/50\n",
      "384/384 [==============================] - 0s 688us/step - loss: 0.4156 - accuracy: 0.8083\n",
      "Epoch 11/50\n",
      "384/384 [==============================] - 0s 684us/step - loss: 0.4113 - accuracy: 0.8057\n",
      "Epoch 12/50\n",
      "384/384 [==============================] - 0s 695us/step - loss: 0.4053 - accuracy: 0.8057\n",
      "Epoch 13/50\n",
      "384/384 [==============================] - 0s 676us/step - loss: 0.3962 - accuracy: 0.8057\n",
      "Epoch 14/50\n",
      "384/384 [==============================] - 0s 698us/step - loss: 0.3921 - accuracy: 0.8057\n",
      "Epoch 15/50\n",
      "384/384 [==============================] - 0s 676us/step - loss: 0.3857 - accuracy: 0.8279\n",
      "Epoch 16/50\n",
      "384/384 [==============================] - 0s 677us/step - loss: 0.3866 - accuracy: 0.8175\n",
      "Epoch 17/50\n",
      "384/384 [==============================] - 0s 671us/step - loss: 0.3811 - accuracy: 0.8227\n",
      "Epoch 18/50\n",
      "384/384 [==============================] - 0s 669us/step - loss: 0.3712 - accuracy: 0.8344\n",
      "Epoch 19/50\n",
      "384/384 [==============================] - 0s 683us/step - loss: 0.3625 - accuracy: 0.8357\n",
      "Epoch 20/50\n",
      "384/384 [==============================] - 0s 697us/step - loss: 0.3645 - accuracy: 0.8305\n",
      "Epoch 21/50\n",
      "384/384 [==============================] - 0s 676us/step - loss: 0.3541 - accuracy: 0.8370\n",
      "Epoch 22/50\n",
      "384/384 [==============================] - 0s 688us/step - loss: 0.3450 - accuracy: 0.8514\n",
      "Epoch 23/50\n",
      "384/384 [==============================] - 0s 729us/step - loss: 0.3401 - accuracy: 0.8527\n",
      "Epoch 24/50\n",
      "384/384 [==============================] - 0s 703us/step - loss: 0.3319 - accuracy: 0.8514\n",
      "Epoch 25/50\n",
      "384/384 [==============================] - 0s 688us/step - loss: 0.3250 - accuracy: 0.8579\n",
      "Epoch 26/50\n",
      "384/384 [==============================] - 0s 682us/step - loss: 0.3235 - accuracy: 0.8553\n",
      "Epoch 27/50\n",
      "384/384 [==============================] - 0s 692us/step - loss: 0.3200 - accuracy: 0.8553\n",
      "Epoch 28/50\n",
      "384/384 [==============================] - 0s 677us/step - loss: 0.3093 - accuracy: 0.8618\n",
      "Epoch 29/50\n",
      "384/384 [==============================] - 0s 673us/step - loss: 0.3045 - accuracy: 0.8644\n",
      "Epoch 30/50\n",
      "384/384 [==============================] - 0s 679us/step - loss: 0.2991 - accuracy: 0.8644\n",
      "Epoch 31/50\n",
      "384/384 [==============================] - 0s 688us/step - loss: 0.3012 - accuracy: 0.8631\n",
      "Epoch 32/50\n",
      "384/384 [==============================] - 0s 681us/step - loss: 0.2873 - accuracy: 0.8801\n",
      "Epoch 33/50\n",
      "384/384 [==============================] - 0s 686us/step - loss: 0.2841 - accuracy: 0.8761\n",
      "Epoch 34/50\n",
      "384/384 [==============================] - 0s 675us/step - loss: 0.2710 - accuracy: 0.8944\n",
      "Epoch 35/50\n",
      "384/384 [==============================] - 0s 695us/step - loss: 0.2771 - accuracy: 0.8801\n",
      "Epoch 36/50\n",
      "384/384 [==============================] - 0s 667us/step - loss: 0.2734 - accuracy: 0.8866\n",
      "Epoch 37/50\n",
      "384/384 [==============================] - 0s 700us/step - loss: 0.2646 - accuracy: 0.8866\n",
      "Epoch 38/50\n",
      "384/384 [==============================] - 0s 685us/step - loss: 0.2547 - accuracy: 0.8918\n",
      "Epoch 39/50\n",
      "384/384 [==============================] - 0s 688us/step - loss: 0.2520 - accuracy: 0.8996\n",
      "Epoch 40/50\n",
      "384/384 [==============================] - 0s 669us/step - loss: 0.2471 - accuracy: 0.8879\n",
      "Epoch 41/50\n",
      "384/384 [==============================] - 0s 676us/step - loss: 0.2441 - accuracy: 0.8983\n",
      "Epoch 42/50\n",
      "384/384 [==============================] - 0s 684us/step - loss: 0.2402 - accuracy: 0.8931\n",
      "Epoch 43/50\n",
      "384/384 [==============================] - 0s 669us/step - loss: 0.2269 - accuracy: 0.9126\n",
      "Epoch 44/50\n",
      "384/384 [==============================] - 0s 662us/step - loss: 0.2290 - accuracy: 0.8983\n",
      "Epoch 45/50\n",
      "384/384 [==============================] - 0s 685us/step - loss: 0.2161 - accuracy: 0.9100\n",
      "Epoch 46/50\n",
      "384/384 [==============================] - 0s 672us/step - loss: 0.2095 - accuracy: 0.9140\n",
      "Epoch 47/50\n",
      "384/384 [==============================] - 0s 696us/step - loss: 0.2100 - accuracy: 0.9100\n",
      "Epoch 48/50\n",
      "384/384 [==============================] - 0s 673us/step - loss: 0.2018 - accuracy: 0.9218\n",
      "Epoch 49/50\n",
      "384/384 [==============================] - 0s 749us/step - loss: 0.1931 - accuracy: 0.9218\n",
      "Epoch 50/50\n",
      "384/384 [==============================] - 0s 712us/step - loss: 0.1889 - accuracy: 0.9192\n"
     ]
    },
    {
     "data": {
      "text/plain": [
       "<keras.callbacks.History at 0x16233c100>"
      ]
     },
     "execution_count": 820,
     "metadata": {},
     "output_type": "execute_result"
    }
   ],
   "source": [
    "def get_basic_model():\n",
    "  model = tf.keras.Sequential([\n",
    "    normalizer,\n",
    "    tf.keras.layers.Dense(50, activation='relu',input_shape=(767,8)),\n",
    "    tf.keras.layers.Dense(50, activation='relu'),\n",
    "    tf.keras.layers.Dense(10, activation='softmax'),\n",
    "  ])\n",
    "\n",
    "  model.compile(optimizer='adam',\n",
    "                loss = 'sparse_categorical_crossentropy',\n",
    "                metrics=['accuracy'])\n",
    "  return model\n",
    "\n",
    "model = get_basic_model()\n",
    "\n",
    "model.fit(feats, outcome, epochs=50, batch_size=BATCH_SIZE)"
   ]
  },
  {
   "cell_type": "code",
   "execution_count": 821,
   "id": "bdff12d3",
   "metadata": {},
   "outputs": [
    {
     "name": "stdout",
     "output_type": "stream",
     "text": [
      "INFO:tensorflow:Assets written to: saved_model/my_model/assets\n"
     ]
    }
   ],
   "source": [
    "!mkdir -p saved_model\n",
    "model.save('saved_model/my_model')"
   ]
  },
  {
   "cell_type": "markdown",
   "id": "bf6350be",
   "metadata": {},
   "source": [
    "## Test Predictions"
   ]
  },
  {
   "cell_type": "code",
   "execution_count": 822,
   "id": "cf71a202",
   "metadata": {},
   "outputs": [
    {
     "name": "stdout",
     "output_type": "stream",
     "text": [
      "[[4.4903778e-03 9.9550927e-01 4.6293195e-08 4.7416052e-08 7.8958088e-08\n",
      "  3.9591608e-08 3.0249939e-08 4.9269641e-08 4.2966860e-08 5.1498901e-08]\n",
      " [2.5909062e-02 9.7409093e-01 6.1373875e-09 7.8961948e-09 1.0615281e-08\n",
      "  6.2274177e-09 3.9675867e-09 8.6518686e-09 5.0128413e-09 7.6287554e-09]\n",
      " [9.7235501e-01 2.7645022e-02 1.1435567e-12 1.8749596e-12 1.1209251e-12\n",
      "  2.1541915e-12 3.4430581e-12 4.3712850e-12 1.1047766e-12 1.2308910e-12]\n",
      " [8.8945156e-01 1.1054842e-01 7.2743711e-14 1.2646950e-13 1.0237515e-13\n",
      "  1.5663017e-13 1.8216020e-13 3.4198976e-13 6.0707353e-14 5.6359174e-14]]\n"
     ]
    }
   ],
   "source": [
    "sample = [[6,148,72,35,0,33.6,.627,50],[6,148,72,35,0,33.6,.627,60],[1,85,66,29,0,26.6,0.351,55],[5,80,100,29,0,30.6,.422,55]]\n",
    "prediction = model.predict(sample)\n",
    "print(prediction)"
   ]
  },
  {
   "cell_type": "markdown",
   "id": "05f81e18",
   "metadata": {},
   "source": [
    "### Show Predicted Classes"
   ]
  },
  {
   "cell_type": "markdown",
   "id": "54089c10",
   "metadata": {},
   "source": [
    "1 = Diabetic <br>\n",
    "0 = Not Diabetic"
   ]
  },
  {
   "cell_type": "code",
   "execution_count": 823,
   "id": "46aa4724",
   "metadata": {},
   "outputs": [
    {
     "name": "stdout",
     "output_type": "stream",
     "text": [
      "[1 1 0 0]\n"
     ]
    }
   ],
   "source": [
    "classes = np.argmax(prediction, axis = 1)\n",
    "print(classes)"
   ]
  },
  {
   "cell_type": "markdown",
   "id": "8f4d8dfd",
   "metadata": {},
   "source": [
    "## Option 1: Adding New Entries And Predictions Using SPARQL INSERT\n",
    "\n",
    "The register_and_predict() function inserts recorded data from parameters, and predicted data from TensorFlow,\n",
    "into Virtuoso as RDF triples, via SPARQL INSERT "
   ]
  },
  {
   "cell_type": "code",
   "execution_count": 826,
   "id": "5989deb0",
   "metadata": {},
   "outputs": [],
   "source": [
    "cursor = cnxn.cursor()\n",
    "def register_and_predict(id,pregnancies, glucose, bp, st, insulin, bmi, dbf, age):\n",
    "        \n",
    "        #Get Preditcion Data\n",
    "        data = [[pregnancies,glucose,bp,st,insulin,bmi,dbf,age]]\n",
    "        x = model.predict(data)\n",
    "        y = np.argmax(x, axis = 1)\n",
    "        \n",
    "        #Insert Patient Data and Prediction\n",
    "        q1 = '''\n",
    "             SPARQL \\n \n",
    "             PREFIX : <#>\\n \n",
    "             INSERT INTO GRAPH <urn:diabetes:data:test> \\n \n",
    "             {\\n \\\n",
    "               <#%s> :pregnancies '%d'^^xsd:integer; \\n \n",
    "               :glucose '%d'^^xsd:integer; \\n \n",
    "               :bloodPressure '%d'^^xsd:integer;\\n \n",
    "               :skinThickness '%d'^^xsd:integer; \\n\n",
    "               :insulin '%d'^^xsd:integer; \\n\n",
    "               :bmi '%d'^^xsd:integer; \\n \n",
    "               :diabetesPedigreeFunction '%d'^^xsd:integer; \\n  \n",
    "               :age '%d'^^xsd:integer; \\n\n",
    "               :hasDiabetes '%d'^^xsd:boolean;\n",
    "               :time ?time. \\n\n",
    "             }\\n\n",
    "             WHERE\\n\n",
    "             {\\n\n",
    "                  BIND(xsd:dateTime(now()) as ?time).\\n\n",
    "             }\\n\n",
    "             '''%(id, pregnancies, glucose, bp, st, insulin, bmi, dbf, age,y)\n",
    "        \n",
    "        #Execute Query\n",
    "        cursor.execute(q1)\n",
    "        print( \"Added Patient: <#%s>, %s, %s\" % ( id,data[0], bool(y) ) )        "
   ]
  },
  {
   "cell_type": "markdown",
   "id": "ac2fb821",
   "metadata": {},
   "source": [
    "### Add Entries and Predictions to Named Graph in Virtuoso Instance"
   ]
  },
  {
   "cell_type": "code",
   "execution_count": 827,
   "id": "e7a204eb",
   "metadata": {},
   "outputs": [
    {
     "name": "stdout",
     "output_type": "stream",
     "text": [
      "Added Patient: <#12345>, [6, 148, 72, 35, 0, 33.6, 0.627, 50], True\n",
      "Added Patient: <#1a2b3>, [2, 108, 84, 35, 0, 33.6, 0, 30], False\n",
      "Added Patient: <#xxyyzz>, [0, 28, 72, 35, 0, 33.6, 0.627, 40], True\n"
     ]
    }
   ],
   "source": [
    "register_and_predict('12345',6,148,72,35,0,33.6,.627,50)\n",
    "register_and_predict('1a2b3',2,108,84,35,0,33.6,0,30)\n",
    "register_and_predict('xxyyzz',0,28,72,35,0,33.6,.627,40)"
   ]
  },
  {
   "cell_type": "markdown",
   "id": "6b488789",
   "metadata": {},
   "source": [
    "### Query the targeted Named Graph, and confirm new entries"
   ]
  },
  {
   "cell_type": "code",
   "execution_count": 828,
   "id": "d018dc5d",
   "metadata": {},
   "outputs": [
    {
     "data": {
      "text/html": [
       "<div>\n",
       "<style scoped>\n",
       "    .dataframe tbody tr th:only-of-type {\n",
       "        vertical-align: middle;\n",
       "    }\n",
       "\n",
       "    .dataframe tbody tr th {\n",
       "        vertical-align: top;\n",
       "    }\n",
       "\n",
       "    .dataframe thead th {\n",
       "        text-align: right;\n",
       "    }\n",
       "</style>\n",
       "<table border=\"1\" class=\"dataframe\">\n",
       "  <thead>\n",
       "    <tr style=\"text-align: right;\">\n",
       "      <th></th>\n",
       "      <th>patient</th>\n",
       "      <th>pregnancies</th>\n",
       "      <th>glucose</th>\n",
       "      <th>bloodPressure</th>\n",
       "      <th>skinThickness</th>\n",
       "      <th>insulin</th>\n",
       "      <th>bmi</th>\n",
       "      <th>diabetesPedigreeFunction</th>\n",
       "      <th>diabetesPrediction</th>\n",
       "      <th>testEntryTime</th>\n",
       "    </tr>\n",
       "  </thead>\n",
       "  <tbody>\n",
       "    <tr>\n",
       "      <th>0</th>\n",
       "      <td>#\u00001\u00002\u00003\u00004\u00005\u0000</td>\n",
       "      <td>6\u0000</td>\n",
       "      <td>1\u00004\u00008\u0000</td>\n",
       "      <td>7\u00002\u0000</td>\n",
       "      <td>3\u00005\u0000</td>\n",
       "      <td>0\u0000</td>\n",
       "      <td>3\u00003\u0000</td>\n",
       "      <td>0\u0000</td>\n",
       "      <td>1\u0000</td>\n",
       "      <td>2\u00000\u00002\u00001\u0000-\u00001\u00002\u0000-\u00000\u00006\u0000 \u00001\u00009\u0000:\u00005\u00004\u0000:\u00003\u00005\u0000.\u00008\u00003\u00001\u0000...</td>\n",
       "    </tr>\n",
       "    <tr>\n",
       "      <th>1</th>\n",
       "      <td>#\u00001\u0000a\u00002\u0000b\u00003\u0000</td>\n",
       "      <td>2\u0000</td>\n",
       "      <td>1\u00000\u00008\u0000</td>\n",
       "      <td>8\u00004\u0000</td>\n",
       "      <td>3\u00005\u0000</td>\n",
       "      <td>0\u0000</td>\n",
       "      <td>3\u00003\u0000</td>\n",
       "      <td>0\u0000</td>\n",
       "      <td>0\u0000</td>\n",
       "      <td>2\u00000\u00002\u00001\u0000-\u00001\u00002\u0000-\u00000\u00006\u0000 \u00001\u00009\u0000:\u00005\u00004\u0000:\u00003\u00005\u0000.\u00008\u00003\u00001\u0000...</td>\n",
       "    </tr>\n",
       "    <tr>\n",
       "      <th>2</th>\n",
       "      <td>#\u0000x\u0000x\u0000y\u0000y\u0000z\u0000z\u0000</td>\n",
       "      <td>0\u0000</td>\n",
       "      <td>2\u00008\u0000</td>\n",
       "      <td>7\u00002\u0000</td>\n",
       "      <td>3\u00005\u0000</td>\n",
       "      <td>0\u0000</td>\n",
       "      <td>3\u00003\u0000</td>\n",
       "      <td>0\u0000</td>\n",
       "      <td>1\u0000</td>\n",
       "      <td>2\u00000\u00002\u00001\u0000-\u00001\u00002\u0000-\u00000\u00006\u0000 \u00001\u00009\u0000:\u00005\u00004\u0000:\u00003\u00005\u0000.\u00008\u00003\u00001\u0000...</td>\n",
       "    </tr>\n",
       "  </tbody>\n",
       "</table>\n",
       "</div>"
      ],
      "text/plain": [
       "          patient pregnancies glucose bloodPressure skinThickness insulin  \\\n",
       "0    #\u00001\u00002\u00003\u00004\u00005\u0000          6\u0000  1\u00004\u00008\u0000          7\u00002\u0000          3\u00005\u0000      0\u0000   \n",
       "1    #\u00001\u0000a\u00002\u0000b\u00003\u0000          2\u0000  1\u00000\u00008\u0000          8\u00004\u0000          3\u00005\u0000      0\u0000   \n",
       "2  #\u0000x\u0000x\u0000y\u0000y\u0000z\u0000z\u0000          0\u0000    2\u00008\u0000          7\u00002\u0000          3\u00005\u0000      0\u0000   \n",
       "\n",
       "    bmi diabetesPedigreeFunction diabetesPrediction  \\\n",
       "0  3\u00003\u0000                       0\u0000                 1\u0000   \n",
       "1  3\u00003\u0000                       0\u0000                 0\u0000   \n",
       "2  3\u00003\u0000                       0\u0000                 1\u0000   \n",
       "\n",
       "                                       testEntryTime  \n",
       "0  2\u00000\u00002\u00001\u0000-\u00001\u00002\u0000-\u00000\u00006\u0000 \u00001\u00009\u0000:\u00005\u00004\u0000:\u00003\u00005\u0000.\u00008\u00003\u00001\u0000...  \n",
       "1  2\u00000\u00002\u00001\u0000-\u00001\u00002\u0000-\u00000\u00006\u0000 \u00001\u00009\u0000:\u00005\u00004\u0000:\u00003\u00005\u0000.\u00008\u00003\u00001\u0000...  \n",
       "2  2\u00000\u00002\u00001\u0000-\u00001\u00002\u0000-\u00000\u00006\u0000 \u00001\u00009\u0000:\u00005\u00004\u0000:\u00003\u00005\u0000.\u00008\u00003\u00001\u0000...  "
      ]
     },
     "execution_count": 828,
     "metadata": {},
     "output_type": "execute_result"
    }
   ],
   "source": [
    "q = \"\"\"\n",
    "    SPARQL \\n\n",
    "    PREFIX : <#> \\n\n",
    "    SELECT * \\n\n",
    "    FROM <urn:diabetes:data:test> \\n\n",
    "    WHERE \\n\n",
    "        {\\n\n",
    "            ?patient :pregnancies ?pregnancies;\n",
    "            :glucose ?glucose;\n",
    "            :bloodPressure ?bloodPressure;\n",
    "            :skinThickness ?skinThickness;\n",
    "            :insulin ?insulin;\n",
    "            :bmi ?bmi;\n",
    "            :diabetesPedigreeFunction ?diabetesPedigreeFunction;\n",
    "            :hasDiabetes ?diabetesPrediction;\n",
    "            :time ?testEntryTime.\n",
    "        }\n",
    "    \"\"\"\n",
    "\n",
    "sparql_res = pd.read_sql_query(q,cnxn)\n",
    "sparql_res.head()"
   ]
  },
  {
   "cell_type": "markdown",
   "id": "8e3eee1d",
   "metadata": {},
   "source": [
    "## Option 2: Adding New Patient Data + Predictions Using SQL INSERT\n",
    "\n",
    "The register_and_predict_sql() function inserts recorded data from parameters, and predicted data from TensorFlow,\n",
    "into a designated SQL table, via SQL INSERT \n"
   ]
  },
  {
   "cell_type": "code",
   "execution_count": 835,
   "id": "0014ac97",
   "metadata": {},
   "outputs": [],
   "source": [
    "cnxn.setencoding(encoding='utf-8')\n",
    "cursor = cnxn.cursor()\n",
    "def register_and_predict_sql(id,pregnancies, glucose, bp, st, insulin, bmi, dbf, age):\n",
    "    #Get Preditcion Data\n",
    "    data = [[pregnancies,glucose,bp,st,insulin,bmi,dbf,age]]\n",
    "    x = model.predict(data)\n",
    "    y = np.argmax(x, axis = 1)\n",
    "        \n",
    "    #Insert Patient Data and Prediction\n",
    "    q = \"\"\"\n",
    "            INSERT INTO \\n\n",
    "                \"tensorflow\".\"diabetes\".\"test_entry\" \n",
    "            VALUES('%s',%d,%d,%d,%d,%d,%d,%d,%d,%d, curdatetime())\"\"\" % (id, pregnancies, glucose, bp, st, insulin, bmi, dbf, age,y)\n",
    "    cursor.execute(q)\n",
    "    print( \"Added Patient: <#%s>, %s, %s\" % ( id,data[0], bool(y) ) )"
   ]
  },
  {
   "cell_type": "markdown",
   "id": "8fba3b64",
   "metadata": {},
   "source": [
    "### Add Entries And Predictions to a Table in Virtuoso Instance"
   ]
  },
  {
   "cell_type": "code",
   "execution_count": 836,
   "id": "9428ba9c",
   "metadata": {},
   "outputs": [
    {
     "name": "stdout",
     "output_type": "stream",
     "text": [
      "Added Patient: <#12345>, [6, 148, 72, 35, 0, 33.6, 0.627, 50], True\n",
      "Added Patient: <#1a2b3>, [2, 108, 84, 35, 0, 33.6, 0, 30], False\n",
      "Added Patient: <#xxyyzz>, [0, 28, 72, 35, 0, 33.6, 0.627, 40], True\n"
     ]
    }
   ],
   "source": [
    "register_and_predict_sql('12345',6,148,72,35,0,33.6,.627,50)\n",
    "register_and_predict_sql('1a2b3',2,108,84,35,0,33.6,0,30)\n",
    "register_and_predict_sql('xxyyzz',0,28,72,35,0,33.6,.627,40)"
   ]
  },
  {
   "cell_type": "markdown",
   "id": "dd6ec5f7",
   "metadata": {},
   "source": [
    "### Query the targeted table, and confirm new entries"
   ]
  },
  {
   "cell_type": "code",
   "execution_count": 837,
   "id": "654b1009",
   "metadata": {},
   "outputs": [
    {
     "data": {
      "text/html": [
       "<div>\n",
       "<style scoped>\n",
       "    .dataframe tbody tr th:only-of-type {\n",
       "        vertical-align: middle;\n",
       "    }\n",
       "\n",
       "    .dataframe tbody tr th {\n",
       "        vertical-align: top;\n",
       "    }\n",
       "\n",
       "    .dataframe thead th {\n",
       "        text-align: right;\n",
       "    }\n",
       "</style>\n",
       "<table border=\"1\" class=\"dataframe\">\n",
       "  <thead>\n",
       "    <tr style=\"text-align: right;\">\n",
       "      <th></th>\n",
       "      <th>patient_id</th>\n",
       "      <th>pregnancies</th>\n",
       "      <th>glucose</th>\n",
       "      <th>blood_pressure</th>\n",
       "      <th>skin_thickness</th>\n",
       "      <th>insulin</th>\n",
       "      <th>bmi</th>\n",
       "      <th>diabetic_pedigree_function</th>\n",
       "      <th>age</th>\n",
       "      <th>prediction</th>\n",
       "      <th>test_entry_time</th>\n",
       "    </tr>\n",
       "  </thead>\n",
       "  <tbody>\n",
       "    <tr>\n",
       "      <th>0</th>\n",
       "      <td>1\u00002\u00003\u00004\u00005\u0000</td>\n",
       "      <td>6</td>\n",
       "      <td>148</td>\n",
       "      <td>72</td>\n",
       "      <td>35</td>\n",
       "      <td>0</td>\n",
       "      <td>33.0</td>\n",
       "      <td>0.0</td>\n",
       "      <td>50</td>\n",
       "      <td>1</td>\n",
       "      <td>2021-12-06 19:56:44.666191</td>\n",
       "    </tr>\n",
       "    <tr>\n",
       "      <th>1</th>\n",
       "      <td>1\u0000a\u00002\u0000b\u00003\u0000</td>\n",
       "      <td>2</td>\n",
       "      <td>108</td>\n",
       "      <td>84</td>\n",
       "      <td>35</td>\n",
       "      <td>0</td>\n",
       "      <td>33.0</td>\n",
       "      <td>0.0</td>\n",
       "      <td>30</td>\n",
       "      <td>0</td>\n",
       "      <td>2021-12-06 19:56:44.708945</td>\n",
       "    </tr>\n",
       "    <tr>\n",
       "      <th>2</th>\n",
       "      <td>x\u0000x\u0000y\u0000y\u0000z\u0000z\u0000</td>\n",
       "      <td>0</td>\n",
       "      <td>28</td>\n",
       "      <td>72</td>\n",
       "      <td>35</td>\n",
       "      <td>0</td>\n",
       "      <td>33.0</td>\n",
       "      <td>0.0</td>\n",
       "      <td>40</td>\n",
       "      <td>1</td>\n",
       "      <td>2021-12-06 19:56:44.753217</td>\n",
       "    </tr>\n",
       "  </tbody>\n",
       "</table>\n",
       "</div>"
      ],
      "text/plain": [
       "     patient_id  pregnancies  glucose  blood_pressure  skin_thickness  \\\n",
       "0    1\u00002\u00003\u00004\u00005\u0000            6      148              72              35   \n",
       "1    1\u0000a\u00002\u0000b\u00003\u0000            2      108              84              35   \n",
       "2  x\u0000x\u0000y\u0000y\u0000z\u0000z\u0000            0       28              72              35   \n",
       "\n",
       "   insulin   bmi  diabetic_pedigree_function  age  prediction  \\\n",
       "0        0  33.0                         0.0   50           1   \n",
       "1        0  33.0                         0.0   30           0   \n",
       "2        0  33.0                         0.0   40           1   \n",
       "\n",
       "             test_entry_time  \n",
       "0 2021-12-06 19:56:44.666191  \n",
       "1 2021-12-06 19:56:44.708945  \n",
       "2 2021-12-06 19:56:44.753217  "
      ]
     },
     "execution_count": 837,
     "metadata": {},
     "output_type": "execute_result"
    }
   ],
   "source": [
    "sql_res = pd.read_sql_query(\"\"\"SELECT * FROM \"tensorflow\".\"diabetes\".\"test_entry\" \"\"\",cnxn)\n",
    "sql_res.head()"
   ]
  }
 ],
 "metadata": {
  "kernelspec": {
   "display_name": "Python 3 (ipykernel)",
   "language": "python",
   "name": "python3"
  },
  "language_info": {
   "codemirror_mode": {
    "name": "ipython",
    "version": 3
   },
   "file_extension": ".py",
   "mimetype": "text/x-python",
   "name": "python",
   "nbconvert_exporter": "python",
   "pygments_lexer": "ipython3",
   "version": "3.9.9"
  }
 },
 "nbformat": 4,
 "nbformat_minor": 5
}
